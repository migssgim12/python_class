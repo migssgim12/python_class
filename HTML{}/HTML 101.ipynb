{
 "cells": [
  {
   "cell_type": "markdown",
   "metadata": {},
   "source": [
    "### HTML practice and CSS\n",
    " - CSS\n",
    " - text-decoration - strikethrough, line-through underline\n",
    " - text-allign - right, left, center\n",
    " - p. - text transform\n",
    " -  text indentation\n",
    " - letter spacing px\n",
    " - line-height - px\n",
    " - direction: rtl;  \n",
    " - word-spacing: between words\n",
    " - text-shadow - takes 3 params - 2 px values, color\n",
    " - Serifs are the ones that are not\n",
    " - font family- \"Times New Roman\n",
    "  \n",
    "  - @font-face {  \n",
    "     - font-family: myFirstFont;   go to dafont.com \n",
    "     - src: url(BARBARIAN.ttf); this is a specific font in the  directory \n",
    "     \n",
    " - body {  \n",
    "    - background-image: url(\"img_tree\");  \n",
    "    - background-repeat: no-repeat;  \n",
    "    - background-position: right top;  \n",
    "    - background-attachment: fixed;  \n",
    "     }\n",
    "     \n",
    "   \n",
    " \n",
    "\n",
    "\n",
    "\n"
   ]
  },
  {
   "cell_type": "code",
   "execution_count": 2,
   "metadata": {
    "collapsed": false
   },
   "outputs": [
    {
     "name": "stdout",
     "output_type": "stream",
     "text": [
      "The slowest run took 19.58 times longer than the fastest. This could mean that an intermediate result is being cached.\n",
      "10000000 loops, best of 3: 91.5 ns per loop\n"
     ]
    }
   ],
   "source": [
    "%%timeit\n",
    "\n",
    "def something(x):\n",
    "    print(x)"
   ]
  },
  {
   "cell_type": "code",
   "execution_count": 1,
   "metadata": {
    "collapsed": false
   },
   "outputs": [
    {
     "data": {
      "text/html": [
       "<audio controls>\n",
       "</audio>"
      ],
      "text/plain": [
       "<IPython.core.display.HTML object>"
      ]
     },
     "metadata": {},
     "output_type": "display_data"
    }
   ],
   "source": [
    "\n",
    "<audio controls>\n",
    "</audio>\n"
   ]
  },
  {
   "cell_type": "code",
   "execution_count": 7,
   "metadata": {
    "collapsed": false
   },
   "outputs": [
    {
     "data": {
      "text/html": [
       "<div> Hello </div>\n",
       "\n",
       "<style>\n",
       "*{\n",
       "    border: 3px black;\n",
       "}\n",
       "</style>"
      ],
      "text/plain": [
       "<IPython.core.display.HTML object>"
      ]
     },
     "metadata": {},
     "output_type": "display_data"
    }
   ],
   "source": [
    "%%html\n",
    "<div> Hello </div>\n",
    "\n",
    "<style>\n",
    "*{\n",
    "    border: 3px black;\n",
    "}\n",
    "</style>"
   ]
  },
  {
   "cell_type": "code",
   "execution_count": 8,
   "metadata": {
    "collapsed": false
   },
   "outputs": [
    {
     "data": {
      "text/html": [
       "\n",
       "p {\n",
       "    color: blue;\n",
       "}\n",
       "\n"
      ],
      "text/plain": [
       "<IPython.core.display.HTML object>"
      ]
     },
     "metadata": {},
     "output_type": "display_data"
    }
   ],
   "source": [
    "%%html\n",
    "\n",
    "<style>\n",
    "p {\n",
    "    color: blue;\n",
    "}\n",
    "</style>\n",
    "\n"
   ]
  },
  {
   "cell_type": "code",
   "execution_count": null,
   "metadata": {
    "collapsed": true
   },
   "outputs": [],
   "source": [
    "# https://codepen.io/_migs/pen/eWKxJJ?editors=1100"
   ]
  },
  {
   "cell_type": "code",
   "execution_count": null,
   "metadata": {
    "collapsed": true
   },
   "outputs": [],
   "source": []
  },
  {
   "cell_type": "code",
   "execution_count": null,
   "metadata": {
    "collapsed": true
   },
   "outputs": [],
   "source": []
  }
 ],
 "metadata": {
  "kernelspec": {
   "display_name": "Python 3",
   "language": "python",
   "name": "python3"
  },
  "language_info": {
   "codemirror_mode": {
    "name": "ipython",
    "version": 3
   },
   "file_extension": ".py",
   "mimetype": "text/x-python",
   "name": "python",
   "nbconvert_exporter": "python",
   "pygments_lexer": "ipython3",
   "version": "3.6.0"
  }
 },
 "nbformat": 4,
 "nbformat_minor": 2
}
