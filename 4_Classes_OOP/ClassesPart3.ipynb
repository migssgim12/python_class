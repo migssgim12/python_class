{
 "cells": [
  {
   "cell_type": "code",
   "execution_count": null,
   "metadata": {
    "collapsed": true
   },
   "outputs": [],
   "source": [
    "from bs4 import BeautifulSoup\n",
    "import requests\n",
    "import os\n",
    "\n",
    "\n",
    "class Account:\n",
    "    def __init__(self, act_type):\n",
    "        self._balance = 0\n",
    "        self.interest_rate = 0.01\n",
    "        self.act_type = act_type\n",
    "    \n",
    "    def withdrawl(self):\n",
    "        pass\n",
    "\n",
    "    def deposit(self, amount):\n",
    "        self._balance += amount\n",
    "\n",
    "    def check_withdrawl(self, amount):\n",
    "        if self._balance < amount:\n",
    "            return False\n",
    "        else:\n",
    "            return False\n",
    "\n",
    "    def calc_interest(self):\n",
    "        pass\n",
    "\n",
    "\n"
   ]
  },
  {
   "cell_type": "code",
   "execution_count": null,
   "metadata": {
    "collapsed": true
   },
   "outputs": [],
   "source": [
    "def menu():\n",
    "    prompt = 'Welcome to the Machine. What would you like to do?'\n",
    "    options = {\n",
    "    'open': open_account,\n",
    "    'balance': check_balance, # This is a dictionary with the menu options\n",
    "    'deposit': deposit,\n",
    "    'withdraw': withdrawl}\n",
    "       \n",
    "    for key in options:\n",
    "        print('Enter one of these options: ', key)\n",
    "\n",
    "    while True:\n",
    "        choice = input(prompt).lower()\n",
    "        try:\n",
    "            options[choice]\n",
    "            break\n",
    "        except KeyError:\n",
    "            print('Invalid Choice')\n",
    "            continue\n",
    "\n",
    "def open_account():\n",
    "    prompt = input('Name')\n",
    "    account = Account(prompt)\n",
    "    print(f'Thanks {prompt}, you have created an account')\n",
    "    menu()\n",
    "\n",
    "\n",
    "\n",
    "menu()"
   ]
  },
  {
   "cell_type": "code",
   "execution_count": null,
   "metadata": {
    "collapsed": true
   },
   "outputs": [],
   "source": []
  },
  {
   "cell_type": "code",
   "execution_count": null,
   "metadata": {
    "collapsed": true
   },
   "outputs": [],
   "source": []
  },
  {
   "cell_type": "code",
   "execution_count": 19,
   "metadata": {
    "collapsed": true
   },
   "outputs": [],
   "source": [
    "migsaccount = Account('migs')"
   ]
  },
  {
   "cell_type": "code",
   "execution_count": 20,
   "metadata": {
    "collapsed": true
   },
   "outputs": [],
   "source": [
    "migsaccount.deposit(10)"
   ]
  },
  {
   "cell_type": "code",
   "execution_count": 21,
   "metadata": {
    "collapsed": false
   },
   "outputs": [
    {
     "data": {
      "text/plain": [
       "10"
      ]
     },
     "execution_count": 21,
     "metadata": {},
     "output_type": "execute_result"
    }
   ],
   "source": [
    "migsaccount._balance"
   ]
  },
  {
   "cell_type": "code",
   "execution_count": 32,
   "metadata": {
    "collapsed": false
   },
   "outputs": [
    {
     "data": {
      "text/plain": [
       "False"
      ]
     },
     "execution_count": 32,
     "metadata": {},
     "output_type": "execute_result"
    }
   ],
   "source": [
    "migsaccount.check_withdrawl(10)"
   ]
  },
  {
   "cell_type": "code",
   "execution_count": null,
   "metadata": {
    "collapsed": true
   },
   "outputs": [],
   "source": []
  }
 ],
 "metadata": {
  "kernelspec": {
   "display_name": "Python 3",
   "language": "python",
   "name": "python3"
  },
  "language_info": {
   "codemirror_mode": {
    "name": "ipython",
    "version": 3
   },
   "file_extension": ".py",
   "mimetype": "text/x-python",
   "name": "python",
   "nbconvert_exporter": "python",
   "pygments_lexer": "ipython3",
   "version": "3.6.0"
  }
 },
 "nbformat": 4,
 "nbformat_minor": 2
}
