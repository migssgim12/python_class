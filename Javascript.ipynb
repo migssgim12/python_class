{
 "cells": [
  {
   "cell_type": "markdown",
   "metadata": {},
   "source": [
    "JSON - \n",
    "Serialization\n",
    "consumtion is getting the info from \n",
    "\n",
    "data types\n",
    "str\n",
    "number\n",
    "boolean\n",
    "object - array\n",
    "\n",
    "NAN\n",
    "undefined\n",
    "null \n",
    "symbol\n",
    "\n",
    "javascript\n",
    "var fermions = ['up', 'down', 'charm', 'top'];\n",
    "for (var i=0; i < fermions.length; i++) {\n",
    "console.log(fermions[i])\n",
    "}\n",
    "\n",
    "\n",
    "var hello = prompt('what is your name? ')\n",
    "alert('Hello ' + person + ' how are you? ')\n",
    "\n",
    "\n"
   ]
  },
  {
   "cell_type": "code",
   "execution_count": 1,
   "metadata": {
    "collapsed": true
   },
   "outputs": [],
   "source": []
  },
  {
   "cell_type": "code",
   "execution_count": null,
   "metadata": {
    "collapsed": true
   },
   "outputs": [],
   "source": []
  }
 ],
 "metadata": {
  "kernelspec": {
   "display_name": "Python 3",
   "language": "python",
   "name": "python3"
  },
  "language_info": {
   "codemirror_mode": {
    "name": "ipython",
    "version": 3
   },
   "file_extension": ".py",
   "mimetype": "text/x-python",
   "name": "python",
   "nbconvert_exporter": "python",
   "pygments_lexer": "ipython3",
   "version": "3.6.0"
  }
 },
 "nbformat": 4,
 "nbformat_minor": 2
}
