{
 "cells": [
  {
   "cell_type": "code",
   "execution_count": 2,
   "metadata": {
    "collapsed": true
   },
   "outputs": [],
   "source": [
    "## Iteration patterns with Built-Ins\n",
    "# range()\n",
    "# zip()\n",
    "#  enumerate()\n"
   ]
  },
  {
   "cell_type": "code",
   "execution_count": 3,
   "metadata": {},
   "outputs": [
    {
     "name": "stdout",
     "output_type": "stream",
     "text": [
      "0\n",
      "1\n",
      "2\n",
      "3\n"
     ]
    }
   ],
   "source": [
    "flowers = ['Fly Trap', 'Orchid', 'Rose', 'Daisy']\n",
    "smells = ['Carion', 'Tumeric', 'Soap', 'Lavender']\n",
    "# Using Range\n",
    "# smells[0:3:2] Starts at 0, ends at 3, by 2\n",
    "for i in range(0,len(flowers)):\n",
    "    print(i)"
   ]
  },
  {
   "cell_type": "code",
   "execution_count": null,
   "metadata": {
    "collapsed": true
   },
   "outputs": [],
   "source": [
    "# Goal I ned to loop over multiple itterable\n",
    "# How can I get the index in scope (of the current iteration)?"
   ]
  },
  {
   "cell_type": "code",
   "execution_count": 8,
   "metadata": {},
   "outputs": [
    {
     "name": "stdout",
     "output_type": "stream",
     "text": [
      "Fly Trap Tumeric\n",
      "Orchid Tumeric\n",
      "Rose Tumeric\n",
      "Daisy Tumeric\n"
     ]
    }
   ],
   "source": [
    "for i in range(0, len(flowers), 1):\n",
    "    print(flowers[i], smells[1])"
   ]
  },
  {
   "cell_type": "code",
   "execution_count": 10,
   "metadata": {
    "collapsed": true
   },
   "outputs": [],
   "source": [
    "result = enumerate(smells)"
   ]
  },
  {
   "cell_type": "code",
   "execution_count": 11,
   "metadata": {},
   "outputs": [
    {
     "data": {
      "text/plain": [
       "[(0, 'Carion'), (1, 'Tumeric'), (2, 'Soap'), (3, 'Lavender')]"
      ]
     },
     "execution_count": 11,
     "metadata": {},
     "output_type": "execute_result"
    }
   ],
   "source": [
    "list(result)"
   ]
  },
  {
   "cell_type": "code",
   "execution_count": 12,
   "metadata": {
    "collapsed": true
   },
   "outputs": [],
   "source": [
    "## This is a list of tuples\n"
   ]
  },
  {
   "cell_type": "code",
   "execution_count": null,
   "metadata": {
    "collapsed": true
   },
   "outputs": [],
   "source": [
    "#Tuple unpacking"
   ]
  },
  {
   "cell_type": "code",
   "execution_count": 14,
   "metadata": {},
   "outputs": [
    {
     "name": "stdout",
     "output_type": "stream",
     "text": [
      "0 Fly Trap\n",
      "1 Orchid\n",
      "2 Rose\n",
      "3 Daisy\n"
     ]
    }
   ],
   "source": [
    "for index, element in enumerate(flowers):\n",
    "    print(index, element)"
   ]
  },
  {
   "cell_type": "code",
   "execution_count": 15,
   "metadata": {},
   "outputs": [
    {
     "name": "stdout",
     "output_type": "stream",
     "text": [
      "(0, 'Fly Trap')\n",
      "(1, 'Orchid')\n",
      "(2, 'Rose')\n",
      "(3, 'Daisy')\n"
     ]
    }
   ],
   "source": [
    "for x in enumerate(flowers):\n",
    "    print(x)"
   ]
  },
  {
   "cell_type": "code",
   "execution_count": 16,
   "metadata": {},
   "outputs": [
    {
     "name": "stdout",
     "output_type": "stream",
     "text": [
      "Fly Trap\n",
      "Orchid\n",
      "Rose\n",
      "Daisy\n"
     ]
    }
   ],
   "source": [
    "for x in enumerate(flowers):\n",
    "    print(x[1])"
   ]
  },
  {
   "cell_type": "code",
   "execution_count": 21,
   "metadata": {},
   "outputs": [
    {
     "name": "stdout",
     "output_type": "stream",
     "text": [
      "Fly Trap Carion\n",
      "Orchid Tumeric\n",
      "Rose Soap\n",
      "Daisy Lavender\n"
     ]
    }
   ],
   "source": [
    "for index, element in enumerate(flowers):\n",
    "    print(element, smells[index])"
   ]
  },
  {
   "cell_type": "code",
   "execution_count": 13,
   "metadata": {
    "collapsed": true
   },
   "outputs": [],
   "source": [
    "(a, b, c, d) = (1, 2, True, None) #parallel assignment"
   ]
  },
  {
   "cell_type": "code",
   "execution_count": null,
   "metadata": {
    "collapsed": true
   },
   "outputs": [],
   "source": [
    "## zip takes - takes two iterables"
   ]
  },
  {
   "cell_type": "code",
   "execution_count": 22,
   "metadata": {},
   "outputs": [
    {
     "data": {
      "text/plain": [
       "[('Carion', 'Fly Trap'),\n",
       " ('Tumeric', 'Orchid'),\n",
       " ('Soap', 'Rose'),\n",
       " ('Lavender', 'Daisy')]"
      ]
     },
     "execution_count": 22,
     "metadata": {},
     "output_type": "execute_result"
    }
   ],
   "source": [
    "list(zip(smells,flowers))"
   ]
  },
  {
   "cell_type": "code",
   "execution_count": 23,
   "metadata": {},
   "outputs": [
    {
     "name": "stdout",
     "output_type": "stream",
     "text": [
      "Carion Fly Trap\n",
      "Tumeric Orchid\n",
      "Soap Rose\n",
      "Lavender Daisy\n"
     ]
    }
   ],
   "source": [
    "for smell, flower in zip(smells, flowers):\n",
    "    print(smell, flower)"
   ]
  },
  {
   "cell_type": "code",
   "execution_count": 24,
   "metadata": {
    "collapsed": true
   },
   "outputs": [],
   "source": [
    "# counter / Incremment\n"
   ]
  },
  {
   "cell_type": "code",
   "execution_count": 25,
   "metadata": {},
   "outputs": [
    {
     "name": "stdout",
     "output_type": "stream",
     "text": [
      "Fly Trap Carion\n",
      "Orchid Tumeric\n",
      "Rose Soap\n",
      "Daisy Lavender\n"
     ]
    }
   ],
   "source": [
    "counter = 0 # initialize\n",
    "while counter < len(flowers):\n",
    "    print(flowers[counter], smells[counter])\n",
    "    counter +=1\n",
    "    "
   ]
  },
  {
   "cell_type": "code",
   "execution_count": 33,
   "metadata": {},
   "outputs": [
    {
     "name": "stdout",
     "output_type": "stream",
     "text": [
      "k\n",
      "n\n"
     ]
    }
   ],
   "source": [
    "name = 'kiernan'\n",
    "print(name[0], name[-1], sep='\\n')"
   ]
  },
  {
   "cell_type": "code",
   "execution_count": null,
   "metadata": {
    "collapsed": true
   },
   "outputs": [],
   "source": []
  }
 ],
 "metadata": {
  "kernelspec": {
   "display_name": "Python 3",
   "language": "python",
   "name": "python3"
  },
  "language_info": {
   "codemirror_mode": {
    "name": "ipython",
    "version": 3
   },
   "file_extension": ".py",
   "mimetype": "text/x-python",
   "name": "python",
   "nbconvert_exporter": "python",
   "pygments_lexer": "ipython3",
   "version": "3.6.0"
  }
 },
 "nbformat": 4,
 "nbformat_minor": 2
}
