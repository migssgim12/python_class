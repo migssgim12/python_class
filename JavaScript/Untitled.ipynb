{
 "cells": [
  {
   "cell_type": "code",
   "execution_count": null,
   "metadata": {
    "collapsed": true
   },
   "outputs": [],
   "source": []
  },
  {
   "cell_type": "markdown",
   "metadata": {},
   "source": [
    "\n",
    "\n",
    "### jQuery\n",
    " - content filters \n",
    "  -dom traversal\n",
    " - dimension and position\n",
    " - effects and animations\n",
    " - events\n",
    " \n",
    "$('#logo') -> jQuery selection\n"
   ]
  },
  {
   "cell_type": "code",
   "execution_count": null,
   "metadata": {
    "collapsed": true
   },
   "outputs": [],
   "source": [
    "%%html\n",
    "<h1 id=\"demo-todo\">Demo: Todo</h1>\n",
    "<p>Make the classic todo list app.\n",
    "The user is given a text box and can enter items onto a list.\n",
    "Each list item also has a small &quot;X&quot; next to it which crosses off an item as done.</p>\n",
    "<p><a href=\"/demos/todo\">Source</a></p>\n",
    "\n",
    "$('#reminder-list').html('llama');\n",
    "\n",
    "$('#reminder-list').html(<p>llama</p>);\n",
    "\n",
    "$('#reminder-list').text"
   ]
  }
 ],
 "metadata": {
  "kernelspec": {
   "display_name": "Python 3",
   "language": "python",
   "name": "python3"
  },
  "language_info": {
   "codemirror_mode": {
    "name": "ipython",
    "version": 3
   },
   "file_extension": ".py",
   "mimetype": "text/x-python",
   "name": "python",
   "nbconvert_exporter": "python",
   "pygments_lexer": "ipython3",
   "version": "3.6.0"
  }
 },
 "nbformat": 4,
 "nbformat_minor": 2
}
