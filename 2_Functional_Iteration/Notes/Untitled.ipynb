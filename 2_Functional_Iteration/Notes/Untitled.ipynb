{
 "cells": [
  {
   "cell_type": "code",
   "execution_count": 23,
   "metadata": {},
   "outputs": [
    {
     "name": "stdout",
     "output_type": "stream",
     "text": [
      "How many dice do you want?  >>10\n",
      "How many sides?  >>12\n",
      "12\n",
      "11\n",
      "10\n",
      "1\n",
      "9\n",
      "6\n",
      "10\n",
      "3\n",
      "1\n",
      "7\n"
     ]
    }
   ],
   "source": [
    "import random\n",
    "\n",
    "\n",
    "def roll(dice, sides):\n",
    "    for i in range(0, dice):  #\n",
    "        roll = random.randint(1, sides)\n",
    "        print(roll)\n",
    "\n",
    "\n",
    "def gather_input():\n",
    "    dice = int(input('How many dice do you want?  >>'))\n",
    "    sides = int(input('How many sides?  >>'))\n",
    "    roll(dice, sides)\n",
    "\n",
    "\n",
    "gather_input()"
   ]
  },
  {
   "cell_type": "code",
   "execution_count": null,
   "metadata": {
    "collapsed": true
   },
   "outputs": [],
   "source": []
  }
 ],
 "metadata": {
  "kernelspec": {
   "display_name": "Python 3",
   "language": "python",
   "name": "python3"
  },
  "language_info": {
   "codemirror_mode": {
    "name": "ipython",
    "version": 3
   },
   "file_extension": ".py",
   "mimetype": "text/x-python",
   "name": "python",
   "nbconvert_exporter": "python",
   "pygments_lexer": "ipython3",
   "version": "3.6.0"
  }
 },
 "nbformat": 4,
 "nbformat_minor": 2
}
