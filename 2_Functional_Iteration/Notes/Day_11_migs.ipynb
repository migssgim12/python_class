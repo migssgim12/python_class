{
 "cells": [
  {
   "cell_type": "code",
   "execution_count": 27,
   "metadata": {
    "collapsed": true
   },
   "outputs": [],
   "source": [
    "def gather_input():\n",
    "    question = input('Please enter an all digits phone number  >> ')\n",
    "    \n",
    "    try:\n",
    "        question = int(question)\n",
    "            \n",
    "    except ValueError:\n",
    "        print('Please enter a valid number')\n",
    "        return gather_input()\n",
    "    \n",
    "    else:\n",
    "        if not len(str(question)) == 10:\n",
    "            \n",
    "            return gather_input()\n",
    "             \n",
    "#     finally:\n",
    "#         x = list(str(question))\n",
    "#         x.insert(0, '(')\n",
    "#         x.insert(4, ')')\n",
    "#         x.insert(8, '-')\n",
    "#         r = ''.join(x)\n",
    "#         return r\n",
    "    \n",
    "#     finally:\n",
    "#         empty_string = ''\n",
    "#         a = str(question[0:3])\n",
    "        \n",
    "            \n",
    "        \n",
    "    \n",
    "        \n",
    "    \n",
    "    "
   ]
  },
  {
   "cell_type": "code",
   "execution_count": 28,
   "metadata": {},
   "outputs": [
    {
     "name": "stdout",
     "output_type": "stream",
     "text": [
      "Please enter an all digits phone number  >> 5034567890\n"
     ]
    },
    {
     "data": {
      "text/plain": [
       "'(503)456-7890'"
      ]
     },
     "execution_count": 28,
     "metadata": {},
     "output_type": "execute_result"
    }
   ],
   "source": [
    "gather_input()\n"
   ]
  },
  {
   "cell_type": "code",
   "execution_count": 36,
   "metadata": {},
   "outputs": [],
   "source": [
    "a = 6788888888"
   ]
  },
  {
   "cell_type": "code",
   "execution_count": 37,
   "metadata": {
    "collapsed": true
   },
   "outputs": [],
   "source": [
    "b =str(a)"
   ]
  },
  {
   "cell_type": "code",
   "execution_count": 38,
   "metadata": {},
   "outputs": [
    {
     "data": {
      "text/plain": [
       "'6788888888'"
      ]
     },
     "execution_count": 38,
     "metadata": {},
     "output_type": "execute_result"
    }
   ],
   "source": [
    "b"
   ]
  },
  {
   "cell_type": "code",
   "execution_count": 43,
   "metadata": {},
   "outputs": [],
   "source": [
    "a = b[0:3] \n",
    "c = b[4:6]\n",
    "d = b[]\n",
    "empty_string = '(' + a + ')'\n"
   ]
  },
  {
   "cell_type": "code",
   "execution_count": 45,
   "metadata": {},
   "outputs": [
    {
     "name": "stdout",
     "output_type": "stream",
     "text": [
      "(678)\n"
     ]
    }
   ],
   "source": [
    "print(empty_string)"
   ]
  },
  {
   "cell_type": "code",
   "execution_count": 46,
   "metadata": {},
   "outputs": [
    {
     "data": {
      "text/plain": [
       "'678'"
      ]
     },
     "execution_count": 46,
     "metadata": {},
     "output_type": "execute_result"
    }
   ],
   "source": [
    "a"
   ]
  },
  {
   "cell_type": "code",
   "execution_count": 47,
   "metadata": {
    "collapsed": true
   },
   "outputs": [],
   "source": [
    "nums = '1234567890'\n",
    "phone = '845 633- 1959'\n",
    "\n",
    "pretty = str()  # Empty String\n",
    "for digit in phone:\n",
    "    if digit in nums:\n",
    "        pretty += digit\n",
    "        \n",
    "            \n",
    "\n"
   ]
  },
  {
   "cell_type": "code",
   "execution_count": 48,
   "metadata": {},
   "outputs": [
    {
     "data": {
      "text/plain": [
       "'8456331959'"
      ]
     },
     "execution_count": 48,
     "metadata": {},
     "output_type": "execute_result"
    }
   ],
   "source": [
    "pretty"
   ]
  },
  {
   "cell_type": "code",
   "execution_count": null,
   "metadata": {
    "collapsed": true
   },
   "outputs": [],
   "source": []
  }
 ],
 "metadata": {
  "kernelspec": {
   "display_name": "Python 3",
   "language": "python",
   "name": "python3"
  },
  "language_info": {
   "codemirror_mode": {
    "name": "ipython",
    "version": 3
   },
   "file_extension": ".py",
   "mimetype": "text/x-python",
   "name": "python",
   "nbconvert_exporter": "python",
   "pygments_lexer": "ipython3",
   "version": "3.6.0"
  }
 },
 "nbformat": 4,
 "nbformat_minor": 2
}
