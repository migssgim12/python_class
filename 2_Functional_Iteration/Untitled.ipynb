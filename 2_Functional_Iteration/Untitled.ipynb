{
 "cells": [
  {
   "cell_type": "code",
   "execution_count": 167,
   "metadata": {},
   "outputs": [],
   "source": [
    "def fizz_buzz(n):\n",
    "    empty_list = []\n",
    "    for i in range(1, n + 1):\n",
    "        if i % 5 == 0 and i % 3 == 0:\n",
    "            empty_list.append('FizzBuzz')\n",
    "        elif i % 3 == 0:\n",
    "            empty_list.append('Fizz')\n",
    "        elif i % 5 == 0:\n",
    "            empty_list.append('Buzz')\n",
    "        else:\n",
    "            empty_list.append(str(i))\n",
    "        \n",
    "    return empty_list\n",
    "\n",
    "def joined_buzz(n):\n",
    "    empty_list = []\n",
    "    for i in range(1, n + 1):\n",
    "        if i % 5 == 0 and i % 3 == 0:\n",
    "            empty_list.append('FizzBuzz')\n",
    "        elif i % 3 == 0:\n",
    "            empty_list.append('Fizz')\n",
    "        elif i % 5 == 0:\n",
    "            empty_list.append('Buzz')\n",
    "        else:\n",
    "            empty_list.append(str(i))\n",
    "    return ' '.join(empty_list)\n",
    "\n"
   ]
  },
  {
   "cell_type": "code",
   "execution_count": 168,
   "metadata": {},
   "outputs": [
    {
     "data": {
      "text/plain": [
       "'1 2 Fizz 4 Buzz Fizz 7 8 Fizz Buzz 11 Fizz 13 14 FizzBuzz'"
      ]
     },
     "execution_count": 168,
     "metadata": {},
     "output_type": "execute_result"
    }
   ],
   "source": [
    "joined_buzz(15)"
   ]
  },
  {
   "cell_type": "code",
   "execution_count": null,
   "metadata": {
    "collapsed": true
   },
   "outputs": [],
   "source": []
  },
  {
   "cell_type": "code",
   "execution_count": null,
   "metadata": {
    "collapsed": true
   },
   "outputs": [],
   "source": []
  }
 ],
 "metadata": {
  "kernelspec": {
   "display_name": "Python 3",
   "language": "python",
   "name": "python3"
  },
  "language_info": {
   "codemirror_mode": {
    "name": "ipython",
    "version": 3
   },
   "file_extension": ".py",
   "mimetype": "text/x-python",
   "name": "python",
   "nbconvert_exporter": "python",
   "pygments_lexer": "ipython3",
   "version": "3.6.0"
  }
 },
 "nbformat": 4,
 "nbformat_minor": 2
}
