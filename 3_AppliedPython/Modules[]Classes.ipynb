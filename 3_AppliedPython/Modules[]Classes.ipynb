{
 "cells": [
  {
   "cell_type": "markdown",
   "metadata": {},
   "source": [
    "### Modules\n",
    "- go to pycharm to settings and add through project interpreter\n",
    "#### Classes\n",
    "- classes are in Capitals and CamelCase\n",
    "\n",
    "###### Instantiation \n",
    "class FrisbeeScrewdriver:\n",
    "    pass\n",
    "- you have to provide building instructions for your class It is building an instance of a        class (instantiation\n"
   ]
  },
  {
   "cell_type": "code",
   "execution_count": null,
   "metadata": {
    "collapsed": true
   },
   "outputs": [],
   "source": []
  },
  {
   "cell_type": "code",
   "execution_count": 1,
   "metadata": {
    "collapsed": true
   },
   "outputs": [],
   "source": [
    "class FrisbeeScrewdriver:\n",
    "    \n",
    "    def __init__(self, terminal_velocity, construction, vibranium):\n",
    "        \"\"\"Overloads the Dunder Init ignore the self - you need self! \"\"\"\n",
    "        self.terminal_velocity = terminal_velocity\n",
    "        self.construction = construction\n",
    "        self.vibration = vibranium\n",
    "        \n",
    "        #dunderinit takes input and then calls it on itself\n",
    "    def __repr__(self):   # \n",
    "        message = \"FrisbeeScrewdriver\"\n",
    "    \n",
    "    def __str__(self):\n",
    "        \"\"\"Returns a useful string\"\"\"\n",
    "        return 'A frisbee screwdriver operates at {}'.format(self.terminal_velocity)\n",
    "    \n",
    "    def frolfth(self):\n",
    "        \"\"\"Instance Method\"\"\"\n",
    "        print('A string that is ok')\n",
    "        \n",
    "    def thitherate(self):\n",
    "        print(self.terminal_velocity * 9)\n",
    "        print(\"FORE\")\n",
    "        \n",
    "        "
   ]
  },
  {
   "cell_type": "code",
   "execution_count": 2,
   "metadata": {
    "collapsed": false
   },
   "outputs": [],
   "source": [
    "#Instantiation\n",
    "fs = FrisbeeScrewdriver(270, 'Three tiered titanium', 'Stark Industries')"
   ]
  },
  {
   "cell_type": "code",
   "execution_count": 3,
   "metadata": {
    "collapsed": false
   },
   "outputs": [
    {
     "name": "stdout",
     "output_type": "stream",
     "text": [
      "A frisbee screwdriver operates at 270\n"
     ]
    }
   ],
   "source": [
    "print(fs)"
   ]
  },
  {
   "cell_type": "code",
   "execution_count": 5,
   "metadata": {
    "collapsed": false
   },
   "outputs": [
    {
     "name": "stdout",
     "output_type": "stream",
     "text": [
      "2430\n",
      "FORE\n"
     ]
    }
   ],
   "source": [
    "fs.thitherate()"
   ]
  },
  {
   "cell_type": "code",
   "execution_count": 7,
   "metadata": {
    "collapsed": false
   },
   "outputs": [
    {
     "name": "stdout",
     "output_type": "stream",
     "text": [
      "We we painted it\n"
     ]
    }
   ],
   "source": [
    "class Wall:\n",
    "    def __init__(self, height, width):\n",
    "        self.width = width\n",
    "        self.height = height\n",
    "        \n",
    "        self.is_painted = False\n",
    "        self.area = width * height\n",
    "    def __repr__(self):\n",
    "        return f\"a {self.height} by {self.width} wall.\"\n",
    "    \n",
    "    def paint(self, cost, coverage = 400):\n",
    "        result = (self.area / coverage) * cost\n",
    "        print(\"Ok we painted it\")\n",
    "        self.is_painted = True\n",
    "    \n",
    "    print('We painted it')"
   ]
  },
  {
   "cell_type": "code",
   "execution_count": 9,
   "metadata": {
    "collapsed": false
   },
   "outputs": [],
   "source": [
    "wl = Wall(123,1245)"
   ]
  },
  {
   "cell_type": "code",
   "execution_count": 10,
   "metadata": {
    "collapsed": false
   },
   "outputs": [
    {
     "data": {
      "text/plain": [
       "a 123 by 1245 wall."
      ]
     },
     "execution_count": 10,
     "metadata": {},
     "output_type": "execute_result"
    }
   ],
   "source": [
    "wl"
   ]
  },
  {
   "cell_type": "code",
   "execution_count": 37,
   "metadata": {
    "collapsed": true
   },
   "outputs": [],
   "source": [
    "from bs4 import BeautifulSoup\n",
    "import requests\n",
    "import os"
   ]
  },
  {
   "cell_type": "code",
   "execution_count": 38,
   "metadata": {
    "collapsed": true
   },
   "outputs": [],
   "source": [
    "BASE_URL = \"https://or.water.usgs.gov/precip/\""
   ]
  },
  {
   "cell_type": "code",
   "execution_count": 17,
   "metadata": {
    "collapsed": true
   },
   "outputs": [],
   "source": [
    "response = requests.get(BASE_URL) # Sends an HTTP request over the interwebs"
   ]
  },
  {
   "cell_type": "code",
   "execution_count": 18,
   "metadata": {
    "collapsed": true
   },
   "outputs": [],
   "source": [
    "raw = response.text   # Getting the raw HTML as a string"
   ]
  },
  {
   "cell_type": "code",
   "execution_count": 19,
   "metadata": {
    "collapsed": true
   },
   "outputs": [],
   "source": [
    "soup = BeautifulSoup(raw, 'html.parser') # Making a BS4 soup objects"
   ]
  },
  {
   "cell_type": "code",
   "execution_count": 41,
   "metadata": {
    "collapsed": false
   },
   "outputs": [
    {
     "data": {
      "text/plain": [
       "<!DOCTYPE HTML PUBLIC \"-//W3C//DTD HTML 4.01 Transitional//EN\">\n",
       "\n",
       "<html lang=\"en\">\n",
       "<head>\n",
       "<title>\n",
       "City of Portland HYDRA Rainfall Network\n",
       "</title>\n",
       "<link href=\"/includes/universal.css\" rel=\"stylesheet\" type=\"text/css\">\n",
       "<link href=\"/precip/css/custom.css\" rel=\"stylesheet\" type=\"text/css\">\n",
       "<style type=\"text/css\">\n",
       "  strong { font-weight: bold }\n",
       "  span.red { color: red }\n",
       "</style>\n",
       "<script async=\"\" src=\"https://www2.usgs.gov/scripts/analytics/usgs-analytics.js\" type=\"text/javascript\"></script>\n",
       "</link></link></head>\n",
       "<body>\n",
       "<!-- BEGIN USGS Header Template -->\n",
       "<div id=\"usgscolorband\">\n",
       "<div id=\"usgsbanner\">\n",
       "<div id=\"usgsidentifier\"><a href=\"https://www.usgs.gov/\"><img alt=\"USGS - science for a changing world\" height=\"72\" src=\"/includes/images/header_graphic_usgsIdentifier_white.jpg\" title=\"U.S. Geological Survey Home Page\" width=\"178\"/></a></div>\n",
       "<div id=\"usgsccsabox\">\n",
       "<div id=\"usgsccsa\">\n",
       "<br/><a href=\"https://www.usgs.gov/\">USGS Home</a>\n",
       "<br/><a href=\"https://www2.usgs.gov/ask/\">Contact USGS</a>\n",
       "<br/><a href=\"http://search.usgs.gov/\">Search USGS</a>\n",
       "</div>\n",
       "</div>\n",
       "</div>\n",
       "</div>\n",
       "<div id=\"usgstitle\">\n",
       "<p><a href=\"/\">Oregon Water Science Center</a></p>\n",
       "</div>\n",
       "<!-- END USGS Header Template -->\n",
       "<h1>City of Portland HYDRA Rainfall Network</h1>\n",
       "<p>The HYDRA rainfall network is operated and maintained by the <a href=\"http://www.enviro.ci.portland.or.us/\">City of Portland Bureau\n",
       "of Environmental Services</a>.  Rainfall data are provided with their\n",
       "permission and cooperation.</p>\n",
       "<table border=\"0\" cellpadding=\"1\" cellspacing=\"8\"><tr>\n",
       "<td align=\"center\" bgcolor=\"#00CCFF\" width=\"245\"><strong>Location Map</strong>\n",
       "<br>Click on the map below to open a full-screen map with\n",
       "links to each station.</br></td>\n",
       "<td rowspan=\"2\" valign=\"top\">\n",
       "<p>Rainfall data for these sites are updated hourly.</p>\n",
       "<p><img alt=\"(new!)\" height=\"12\" src=\"css/new.gif\" width=\"31\">\n",
       "[09-Mar-2017] The <strong>Bonny Slope</strong> (#58) rain gage is\n",
       "temporarily down.</img></p>\n",
       "<p><i>Disclaimer:  Rainfall data on this page have not received final approval\n",
       "and as such are provisional and subject to final revision.  The data are\n",
       "released on the condition that neither the USGS, the United States Government,\n",
       "nor the City of Portland may be held liable for any damages resulting from\n",
       "their use.  <a href=\"rainfall_data_quality.html\">More information</a> about\n",
       "the quality of precipitation data is available.</i></p>\n",
       "<p><i>A <strong>water year</strong> is defined as the 12-month period\n",
       "beginning October 1 of any year and continuing through September 30 of\n",
       "the following year. The water year is designated by the calendar year in\n",
       "which it ends and which includes 9 of the 12 months. Thus, the water year\n",
       "ending September 30, 2010 is called the 2010 water year.</i></p>\n",
       "</td>\n",
       "</tr><tr>\n",
       "<td align=\"center\" valign=\"top\"><a href=\"raingage_info/clickmap.html\"><img alt=\"location map\" height=\"185\" src=\"raingage_info/tn-clickmap.jpg\" width=\"241\"/></a></td>\n",
       "</tr></table>\n",
       "<table bgcolor=\"#FFFFEE\" border=\"1\" cellpadding=\"5\" cellspacing=\"2\">\n",
       "<tr>\n",
       "<th align=\"center\" bgcolor=\"#00CCFF\" colspan=\"9\">City of Portland Rain Gages</th>\n",
       "</tr><tr>\n",
       "<th rowspan=\"2\">Station Name</th>\n",
       "<th rowspan=\"2\">Sta.<br>No.</br></th>\n",
       "<th rowspan=\"2\">Time of<br>Latest Reading</br></th>\n",
       "<th colspan=\"5\">Accumulation (inches)</th>\n",
       "<th rowspan=\"2\">Data</th>\n",
       "</tr><tr>\n",
       "<th>1-day</th>\n",
       "<th>3-day</th>\n",
       "<th>5-day</th>\n",
       "<th>May</th>\n",
       "<th>Water<br>Year</br></th>\n",
       "</tr><tr>\n",
       "<td align=\"center\" bgcolor=\"#00CCFF\" colspan=\"9\">Portland Area Summary</td>\n",
       "</tr><tr>\n",
       "<td colspan=\"3\">Portland area -- average rainfall,  39 gages,\n",
       "not including the Cottrell School rain gage, which is outside of the general Portland area.</td>\n",
       "<td align=\"center\">  0.00</td>\n",
       "<td align=\"center\">  0.00</td>\n",
       "<td align=\"center\">  0.19</td>\n",
       "<td align=\"center\">  0.37</td>\n",
       "<td align=\"center\"> 52.88</td>\n",
       "<td> </td>\n",
       "</tr><tr>\n",
       "<td align=\"center\" bgcolor=\"#00CCFF\" colspan=\"9\">North Region</td>\n",
       "</tr><tr>\n",
       "<td colspan=\"3\">North region -- average rainfall,  10 gages</td>\n",
       "<!--not including the PCC Cascade or WPCL or Astor rain gages.</td>-->\n",
       "<td align=\"center\">  0.00</td>\n",
       "<td align=\"center\">  0.00</td>\n",
       "<td align=\"center\">  0.14</td>\n",
       "<td align=\"center\">  0.32</td>\n",
       "<td align=\"center\"> 51.84</td>\n",
       "<td> </td>\n",
       "</tr><tr>\n",
       "<td>Hayden Island Rain Gage<br>1740 N. Jantzen Beach Ctr.</br></td>\n",
       "<td align=\"center\">7</td>\n",
       "<td align=\"center\" nowrap=\"\">09-May-2017, 11:06</td>\n",
       "<td align=\"center\"><a href=\"hayden_island.1day.html\">  0.00</a></td>\n",
       "<td align=\"center\"><a href=\"hayden_island.3day.html\">  0.00</a></td>\n",
       "<td align=\"center\"><a href=\"hayden_island.5day.html\">  0.21</a></td>\n",
       "<td align=\"center\">  0.39</td>\n",
       "<td align=\"center\"> 45.32</td>\n",
       "<td align=\"center\"><a href=\"hayden_island.rain\">data table</a></td>\n",
       "</tr><tr>\n",
       "<td>Open Meadows School Rain Gage<br>7602 N. Emerald Ave.</br></td>\n",
       "<td align=\"center\">48</td>\n",
       "<td align=\"center\">09-May-2017, 11:06</td>\n",
       "<td align=\"center\"><a href=\"open_meadows.1day.html\">  0.00</a></td>\n",
       "<td align=\"center\"><a href=\"open_meadows.3day.html\">  0.00</a></td>\n",
       "<td align=\"center\"><a href=\"open_meadows.5day.html\">  0.20</a></td>\n",
       "<td align=\"center\">  0.41</td>\n",
       "<td align=\"center\"> 52.83</td>\n",
       "<td align=\"center\"><a href=\"open_meadows.rain\">data table</a></td>\n",
       "</tr><tr>\n",
       "<td>Shipyard Rain Gage<br>8900 N. Sever Road</br></td>\n",
       "<td align=\"center\">82</td>\n",
       "<td align=\"center\">09-May-2017, 11:06</td>\n",
       "<td align=\"center\"><a href=\"shipyard.1day.html\">  0.00</a></td>\n",
       "<td align=\"center\"><a href=\"shipyard.3day.html\">  0.00</a></td>\n",
       "<td align=\"center\"><a href=\"shipyard.5day.html\">  0.11</a></td>\n",
       "<td align=\"center\">  0.32</td>\n",
       "<td align=\"center\"> 52.24</td>\n",
       "<td align=\"center\"><a href=\"shipyard.rain\">data table</a></td>\n",
       "</tr><tr>\n",
       "<td>Columbia IPS Rain Gage<br>5001 N. Columbia Blvd.</br></td>\n",
       "<td align=\"center\">107</td>\n",
       "<td align=\"center\">09-May-2017, 11:06</td>\n",
       "<td align=\"center\"><a href=\"columbia_ips.1day.html\">  0.00</a></td>\n",
       "<td align=\"center\"><a href=\"columbia_ips.3day.html\">  0.00</a></td>\n",
       "<td align=\"center\"><a href=\"columbia_ips.5day.html\">  0.19</a></td>\n",
       "<td align=\"center\">  0.40</td>\n",
       "<td align=\"center\"> 53.60</td>\n",
       "<td align=\"center\"><a href=\"columbia_ips.rain\">data table</a></td>\n",
       "</tr><tr>\n",
       "<td>Albina Rain Gage<br>2920 N. Larrabee Ave.</br></td>\n",
       "<td align=\"center\">117</td>\n",
       "<td align=\"center\">09-May-2017, 11:06</td>\n",
       "<td align=\"center\"><a href=\"albina.1day.html\">  0.00</a></td>\n",
       "<td align=\"center\"><a href=\"albina.3day.html\">  0.00</a></td>\n",
       "<td align=\"center\"><a href=\"albina.5day.html\">  0.07</a></td>\n",
       "<td align=\"center\">  0.26</td>\n",
       "<td align=\"center\"> 54.14</td>\n",
       "<td align=\"center\"><a href=\"albina.rain\">data table</a></td>\n",
       "</tr><tr>\n",
       "<td>Swan Island Rain Gage 122<br>2600 N. Going St.</br></td>\n",
       "<td align=\"center\">122</td>\n",
       "<td align=\"center\" colspan=\"6\">Station was retired on 27-Sep-2007.</td>\n",
       "<td align=\"center\"><a href=\"swan_island.rain\">data table</a></td>\n",
       "</tr><tr>\n",
       "<td>Marine Drive Rain Gage<br>7305 N. Marine Dr.</br></td>\n",
       "<td align=\"center\">137</td>\n",
       "<td align=\"center\" colspan=\"6\">Station was retired on 13-Jan-2010.</td>\n",
       "<td align=\"center\"><a href=\"marine_drive.rain\">data table</a></td>\n",
       "</tr><tr>\n",
       "<td>Simmons Rain Gage<br>16001 N. Simmons Rd.</br></td>\n",
       "<td align=\"center\">139</td>\n",
       "<td align=\"center\">09-May-2017, 11:06</td>\n",
       "<td align=\"center\"><a href=\"simmons.1day.html\">  0.00</a></td>\n",
       "<td align=\"center\"><a href=\"simmons.3day.html\">  0.00</a></td>\n",
       "<td align=\"center\"><a href=\"simmons.5day.html\">  0.06</a></td>\n",
       "<td align=\"center\">  0.27</td>\n",
       "<td align=\"center\"> 55.27</td>\n",
       "<td align=\"center\"><a href=\"simmons.rain\">data table</a></td>\n",
       "</tr><tr>\n",
       "<td>Cascade PCC Rain Gage<br>705 N. Killingsworth St.</br></td>\n",
       "<td align=\"center\">153</td>\n",
       "<td align=\"center\">09-May-2017, 11:06</td>\n",
       "<td align=\"center\"><a href=\"pcc_cascade.1day.html\">  0.00</a></td>\n",
       "<td align=\"center\"><a href=\"pcc_cascade.3day.html\">  0.00</a></td>\n",
       "<td align=\"center\"><a href=\"pcc_cascade.5day.html\">  0.14</a></td>\n",
       "<td align=\"center\">  0.32</td>\n",
       "<td align=\"center\"> 50.53</td>\n",
       "<td align=\"center\"><a href=\"pcc_cascade.rain\">data table</a></td>\n",
       "</tr><tr>\n",
       "<td>WPCL Rain Gage<br>6543 N. Burlington Ave.</br></td>\n",
       "<td align=\"center\">160</td>\n",
       "<td align=\"center\">09-May-2017, 11:06</td>\n",
       "<td align=\"center\"><a href=\"wpcl.1day.html\">  0.00</a></td>\n",
       "<td align=\"center\"><a href=\"wpcl.3day.html\">  0.00</a></td>\n",
       "<td align=\"center\"><a href=\"wpcl.5day.html\">  0.13</a></td>\n",
       "<td align=\"center\">  0.13</td>\n",
       "<td align=\"center\"> 50.99</td>\n",
       "<td align=\"center\"><a href=\"wpcl.rain\">data table</a></td>\n",
       "</tr><tr>\n",
       "<td>Terminal 4 NE Rain Gage<br>11040 N. Lombard St.</br></td>\n",
       "<td align=\"center\">167</td>\n",
       "<td align=\"center\" colspan=\"6\">Station was retired on 25-Aug-2011.</td>\n",
       "<td align=\"center\"><a href=\"terminal4ne.rain\">data table</a></td>\n",
       "</tr><tr>\n",
       "<td>Astor Elementary School Rain Gage<br>5601 N. Yale St.</br></td>\n",
       "<td align=\"center\">193</td>\n",
       "<td align=\"center\">09-May-2017, 11:06</td>\n",
       "<td align=\"center\"><a href=\"astor.1day.html\">  0.00</a></td>\n",
       "<td align=\"center\"><a href=\"astor.3day.html\">  0.00</a></td>\n",
       "<td align=\"center\"><a href=\"astor.5day.html\">  0.14</a></td>\n",
       "<td align=\"center\">  0.34</td>\n",
       "<td align=\"center\"> 50.09</td>\n",
       "<td align=\"center\"><a href=\"astor.rain\">data table</a></td>\n",
       "</tr><tr>\n",
       "<td>Swan Island Rain Gage<br> </br></td>\n",
       "<td align=\"center\">204</td>\n",
       "<td align=\"center\">09-May-2017, 11:06</td>\n",
       "<td align=\"center\"><a href=\"swan_island_pump.1day.html\">  0.00</a></td>\n",
       "<td align=\"center\"><a href=\"swan_island_pump.3day.html\">  0.00</a></td>\n",
       "<td align=\"center\"><a href=\"swan_island_pump.5day.html\">  0.15</a></td>\n",
       "<td align=\"center\">  0.33</td>\n",
       "<td align=\"center\"> 53.36</td>\n",
       "<td align=\"center\"><a href=\"swan_island_pump.rain\">data table</a></td>\n",
       "</tr><tr>\n",
       "<td align=\"center\" bgcolor=\"#00CCFF\" colspan=\"9\">North West Region</td>\n",
       "</tr><tr>\n",
       "<td colspan=\"3\">Northwest region -- average rainfall,   5 gages</td>\n",
       "<td align=\"center\">  0.00</td>\n",
       "<td align=\"center\">  0.00</td>\n",
       "<td align=\"center\">  0.15</td>\n",
       "<td align=\"center\">  0.31</td>\n",
       "<td align=\"center\"> 51.57</td>\n",
       "<td> </td>\n",
       "</tr><tr>\n",
       "<td>Skyline School Rain Gage<br>11536 NW. Skyline Blvd.</br></td>\n",
       "<td align=\"center\">2</td>\n",
       "<td align=\"center\">09-May-2017, 11:06</td>\n",
       "<td align=\"center\"><a href=\"skyline_school.1day.html\">  0.00</a></td>\n",
       "<td align=\"center\"><a href=\"skyline_school.3day.html\">  0.00</a></td>\n",
       "<td align=\"center\"><a href=\"skyline_school.5day.html\">  0.19</a></td>\n",
       "<td align=\"center\">  0.36</td>\n",
       "<td align=\"center\"> 51.02</td>\n",
       "<td align=\"center\"><a href=\"skyline_school.rain\">data table</a></td>\n",
       "</tr><tr>\n",
       "<td>Sauvie Island School Rain Gage<br>14445 NW. Charlton Rd.</br></td>\n",
       "<td align=\"center\">3</td>\n",
       "<td align=\"center\">09-May-2017, 11:06</td>\n",
       "<td align=\"center\"><a href=\"sauvies_island.1day.html\">  0.00</a></td>\n",
       "<td align=\"center\"><a href=\"sauvies_island.3day.html\">  0.00</a></td>\n",
       "<td align=\"center\"><a href=\"sauvies_island.5day.html\">  0.19</a></td>\n",
       "<td align=\"center\">  0.41</td>\n",
       "<td align=\"center\"> 54.49</td>\n",
       "<td align=\"center\"><a href=\"sauvies_island.rain\">data table</a></td>\n",
       "</tr><tr>\n",
       "<td>Bonny Slope School Rain Gage<br>10351 NW. Thompson Rd.</br></td>\n",
       "<td align=\"center\">58</td>\n",
       "<td align=\"center\">08-Mar-2017, 7:00</td>\n",
       "<td align=\"center\"><a href=\"bonny_slope.1day.html\">  0.00</a></td>\n",
       "<td align=\"center\"><a href=\"bonny_slope.3day.html\">  0.00</a></td>\n",
       "<td align=\"center\"><a href=\"bonny_slope.5day.html\">  0.00</a></td>\n",
       "<td align=\"center\">  0.00</td>\n",
       "<td align=\"center\"> 35.60</td>\n",
       "<td align=\"center\"><a href=\"bonny_slope.rain\">data table</a></td>\n",
       "</tr><tr>\n",
       "<td>Yeon Rain Gage<br>3395 NW. Yeon St.</br></td>\n",
       "<td align=\"center\">121</td>\n",
       "<td align=\"center\">09-May-2017, 11:06</td>\n",
       "<td align=\"center\"><a href=\"yeon.1day.html\">  0.00</a></td>\n",
       "<td align=\"center\"><a href=\"yeon.3day.html\">  0.00</a></td>\n",
       "<td align=\"center\"><a href=\"yeon.5day.html\">  0.23</a></td>\n",
       "<td align=\"center\">  0.45</td>\n",
       "<td align=\"center\"> 59.73</td>\n",
       "<td align=\"center\"><a href=\"yeon.rain\">data table</a></td>\n",
       "</tr><tr>\n",
       "<td>Guilds Lake Rain Gage<br>7110 NW. Front Ave.</br></td>\n",
       "<td align=\"center\">125</td>\n",
       "<td align=\"center\" colspan=\"6\">Station was retired on 23-Mar-2005.</td>\n",
       "<td align=\"center\"><a href=\"guilds_lake.rain\">data table</a></td>\n",
       "</tr><tr>\n",
       "<td>Skyline Fire Station Rain Gage<br>8031 NW. Skyline Blvd.</br></td>\n",
       "<td align=\"center\">147</td>\n",
       "<td align=\"center\" colspan=\"6\">Station was retired on 02-Nov-2003.</td>\n",
       "<td align=\"center\"><a href=\"skyline_firesta.rain\">data table</a></td>\n",
       "</tr><tr>\n",
       "<td>Metro Learning Center Rain Gage<br>2033 NW. Glisan St.</br></td>\n",
       "<td align=\"center\">173</td>\n",
       "<td align=\"center\">09-May-2017, 11:06</td>\n",
       "<td align=\"center\"><a href=\"metro_center.1day.html\">  0.00</a></td>\n",
       "<td align=\"center\"><a href=\"metro_center.3day.html\">  0.00</a></td>\n",
       "<td align=\"center\"><a href=\"metro_center.5day.html\">  0.14</a></td>\n",
       "<td align=\"center\">  0.33</td>\n",
       "<td align=\"center\"> 57.01</td>\n",
       "<td align=\"center\"><a href=\"metro_center.rain\">data table</a></td>\n",
       "</tr><tr>\n",
       "<td align=\"center\" bgcolor=\"#00CCFF\" colspan=\"9\">North East Region</td>\n",
       "</tr><tr>\n",
       "<td colspan=\"3\">Northeast region -- average rainfall,   8 gages</td>\n",
       "<td align=\"center\">  0.00</td>\n",
       "<td align=\"center\">  0.00</td>\n",
       "<td align=\"center\">  0.16</td>\n",
       "<td align=\"center\">  0.34</td>\n",
       "<td align=\"center\"> 52.05</td>\n",
       "<td> </td>\n",
       "</tr><tr>\n",
       "<td>PDX East Business Park Rain Gage<br>8599 NE. Alderwood Rd.</br></td>\n",
       "<td align=\"center\">9</td>\n",
       "<td align=\"center\" colspan=\"6\">Station was retired on 21-Sep-2004.</td>\n",
       "<td align=\"center\"><a href=\"pdx_e_busipark.rain\">data table</a></td>\n",
       "</tr><tr>\n",
       "<td>Fernwood School Rain Gage<br>3255 NE. Hancock St.</br></td>\n",
       "<td align=\"center\">12</td>\n",
       "<td align=\"center\">09-May-2017, 11:06</td>\n",
       "<td align=\"center\"><a href=\"fernwood.1day.html\">  0.00</a></td>\n",
       "<td align=\"center\"><a href=\"fernwood.3day.html\">  0.00</a></td>\n",
       "<td align=\"center\"><a href=\"fernwood.5day.html\">  0.08</a></td>\n",
       "<td align=\"center\">  0.23</td>\n",
       "<td align=\"center\"> 50.66</td>\n",
       "<td align=\"center\"><a href=\"fernwood.rain\">data table</a></td>\n",
       "</tr><tr>\n",
       "<td>Vernon School Rain Gage<br>2044 NE. Killingsworth St.</br></td>\n",
       "<td align=\"center\">41</td>\n",
       "<td align=\"center\">09-May-2017, 11:06</td>\n",
       "<td align=\"center\"><a href=\"vernon.1day.html\">  0.00</a></td>\n",
       "<td align=\"center\"><a href=\"vernon.3day.html\">  0.00</a></td>\n",
       "<td align=\"center\"><a href=\"vernon.5day.html\">  0.09</a></td>\n",
       "<td align=\"center\">  0.25</td>\n",
       "<td align=\"center\"> 50.53</td>\n",
       "<td align=\"center\"><a href=\"vernon.rain\">data table</a></td>\n",
       "</tr><tr>\n",
       "<td>Fremont Rain Gage<br>2777 NE. Fremont Dr.</br></td>\n",
       "<td align=\"center\">72</td>\n",
       "<td align=\"center\" colspan=\"6\">Station was retired on 12-Aug-2010.</td>\n",
       "<td align=\"center\"><a href=\"fremont.rain\">data table</a></td>\n",
       "</tr><tr>\n",
       "<td>Airport Way #2 Rain Gage<br>14614 NE. Airport Way</br></td>\n",
       "<td align=\"center\">111</td>\n",
       "<td align=\"center\">09-May-2017, 11:06</td>\n",
       "<td align=\"center\"><a href=\"airport_way.1day.html\">  0.00</a></td>\n",
       "<td align=\"center\"><a href=\"airport_way.3day.html\">  0.00</a></td>\n",
       "<td align=\"center\"><a href=\"airport_way.5day.html\">  0.34</a></td>\n",
       "<td align=\"center\">  0.56</td>\n",
       "<td align=\"center\"> 56.22</td>\n",
       "<td align=\"center\"><a href=\"airport_way.rain\">data table</a></td>\n",
       "</tr><tr>\n",
       "<td>Mallory Rain Gage<br>8030 NE. Mallory Ave.</br></td>\n",
       "<td align=\"center\">115</td>\n",
       "<td align=\"center\">09-May-2017, 11:06</td>\n",
       "<td align=\"center\"><a href=\"mallory.1day.html\">  0.00</a></td>\n",
       "<td align=\"center\"><a href=\"mallory.3day.html\">  0.00</a></td>\n",
       "<td align=\"center\"><a href=\"mallory.5day.html\">  0.20</a></td>\n",
       "<td align=\"center\">  0.37</td>\n",
       "<td align=\"center\"> 50.48</td>\n",
       "<td align=\"center\"><a href=\"mallory.rain\">data table</a></td>\n",
       "</tr><tr>\n",
       "<td>Beaumont School Rain Gage<br>4043 NE. Fremont Ave.</br></td>\n",
       "<td align=\"center\">152</td>\n",
       "<td align=\"center\">09-May-2017, 11:06</td>\n",
       "<td align=\"center\"><a href=\"beaumont.1day.html\">  0.00</a></td>\n",
       "<td align=\"center\"><a href=\"beaumont.3day.html\">  0.00</a></td>\n",
       "<td align=\"center\"><a href=\"beaumont.5day.html\">  0.10</a></td>\n",
       "<td align=\"center\">  0.26</td>\n",
       "<td align=\"center\"> 53.20</td>\n",
       "<td align=\"center\"><a href=\"beaumont.rain\">data table</a></td>\n",
       "</tr><tr>\n",
       "<td>Post Office Rain Gage<br>7660 NE. Airport Way</br></td>\n",
       "<td align=\"center\">159</td>\n",
       "<td align=\"center\">09-May-2017, 11:06</td>\n",
       "<td align=\"center\"><a href=\"post_office.1day.html\">  0.00</a></td>\n",
       "<td align=\"center\"><a href=\"post_office.3day.html\">  0.00</a></td>\n",
       "<td align=\"center\"><a href=\"post_office.5day.html\">  0.12</a></td>\n",
       "<td align=\"center\">  0.27</td>\n",
       "<td align=\"center\"> 52.89</td>\n",
       "<td align=\"center\"><a href=\"post_office.rain\">data table</a></td>\n",
       "</tr><tr>\n",
       "<td>Grant Park Rain Gage<br>1907 NE. 45th Ave.</br></td>\n",
       "<td align=\"center\">162</td>\n",
       "<td align=\"center\" colspan=\"6\">Station was retired on 20-Oct-2004.</td>\n",
       "<td align=\"center\"><a href=\"grant_park.rain\">data table</a></td>\n",
       "</tr><tr>\n",
       "<td>Madison Rain Gage<br>2735 NE. 82nd Ave.</br></td>\n",
       "<td align=\"center\">213</td>\n",
       "<td align=\"center\">09-May-2017, 11:06</td>\n",
       "<td align=\"center\"><a href=\"madison.1day.html\">  0.00</a></td>\n",
       "<td align=\"center\"><a href=\"madison.3day.html\">  0.00</a></td>\n",
       "<td align=\"center\"><a href=\"madison.5day.html\">  0.16</a></td>\n",
       "<td align=\"center\">  0.34</td>\n",
       "<td align=\"center\"> 47.86</td>\n",
       "<td align=\"center\"><a href=\"madison.rain\">data table</a></td>\n",
       "</tr><tr>\n",
       "<td>Walmart Eco Roof Rain Gage<br>1123 N. Hayden Meadows Dr.</br></td>\n",
       "<td align=\"center\">220</td>\n",
       "<td align=\"center\">09-May-2017, 11:06</td>\n",
       "<td align=\"center\"><a href=\"walmart_ecoroof.1day.html\">  0.00</a></td>\n",
       "<td align=\"center\"><a href=\"walmart_ecoroof.3day.html\">  0.00</a></td>\n",
       "<td align=\"center\"><a href=\"walmart_ecoroof.5day.html\">  0.22</a></td>\n",
       "<td align=\"center\">  0.42</td>\n",
       "<td align=\"center\"> 54.57</td>\n",
       "<td align=\"center\"><a href=\"walmart_ecoroof.rain\">data table</a></td>\n",
       "</tr><tr>\n",
       "<td align=\"center\" bgcolor=\"#00CCFF\" colspan=\"9\">South West Region</td>\n",
       "</tr><tr>\n",
       "<td colspan=\"3\">Southwest region -- average rainfall,   6 gages,\n",
       "not including the Sylvan and Maplewood gages.</td>\n",
       "<td align=\"center\">  0.00</td>\n",
       "<td align=\"center\">  0.00</td>\n",
       "<td align=\"center\">  0.24</td>\n",
       "<td align=\"center\">  0.40</td>\n",
       "<td align=\"center\"> 55.22</td>\n",
       "<td> </td>\n",
       "</tr><tr>\n",
       "<td>Portland Fire Bureau Rain Gage<br>55 SW. Ash St.</br></td>\n",
       "<td align=\"center\">1</td>\n",
       "<td align=\"center\">09-May-2017, 11:06</td>\n",
       "<td align=\"center\"><a href=\"ankeny.1day.html\">  0.00</a></td>\n",
       "<td align=\"center\"><a href=\"ankeny.3day.html\">  0.00</a></td>\n",
       "<td align=\"center\"><a href=\"ankeny.5day.html\">  0.10</a></td>\n",
       "<td align=\"center\">  0.27</td>\n",
       "<td align=\"center\"> 55.75</td>\n",
       "<td align=\"center\"><a href=\"ankeny.rain\">data table</a></td>\n",
       "</tr><tr>\n",
       "<td>Sylvania PCC Rain Gage<br>SS Bldg, 12000 SW. 49th Ave.</br></td>\n",
       "<td align=\"center\">4</td>\n",
       "<td align=\"center\">09-May-2017, 11:06</td>\n",
       "<td align=\"center\"><a href=\"pcc_sylvania.1day.html\">  0.00</a></td>\n",
       "<td align=\"center\"><a href=\"pcc_sylvania.3day.html\">  0.00</a></td>\n",
       "<td align=\"center\"><a href=\"pcc_sylvania.5day.html\">  0.27</a></td>\n",
       "<td align=\"center\">  0.36</td>\n",
       "<td align=\"center\"> 48.88</td>\n",
       "<td align=\"center\"><a href=\"pcc_sylvania.rain\">data table</a></td>\n",
       "</tr><tr>\n",
       "<td>Collins View Rain Gage<br>(Riverdale High School)<br>9806 SW. Boones Ferry Rd.</br></br></td>\n",
       "<td align=\"center\">10</td>\n",
       "<td align=\"center\">09-May-2017, 11:06</td>\n",
       "<td align=\"center\"><a href=\"collins_view.1day.html\">  0.00</a></td>\n",
       "<td align=\"center\"><a href=\"collins_view.3day.html\">  0.00</a></td>\n",
       "<td align=\"center\"><a href=\"collins_view.5day.html\">  0.44</a></td>\n",
       "<td align=\"center\">  0.59</td>\n",
       "<td align=\"center\"> 57.46</td>\n",
       "<td align=\"center\"><a href=\"collins_view.rain\">data table</a></td>\n",
       "</tr><tr>\n",
       "<td>Vermont Hills Rain Gage<br>5730 SW. Idaho St.</br></td>\n",
       "<td align=\"center\">89</td>\n",
       "<td align=\"center\" colspan=\"6\">Station was retired on 23-Jul-2002.</td>\n",
       "<td align=\"center\"><a href=\"vermont_hills.rain\">data table</a></td>\n",
       "</tr><tr>\n",
       "<td>Thomas Rain Gage<br>4026 SW. Macadam Ave.</br></td>\n",
       "<td align=\"center\">120</td>\n",
       "<td align=\"center\" colspan=\"6\">Station was retired on 23-Jul-2009.</td>\n",
       "<td align=\"center\"><a href=\"thomas.rain\">data table</a></td>\n",
       "</tr><tr>\n",
       "<td>Sylvan School Rain Gage<br>1849 SW. 58th Ave.</br></td>\n",
       "<td align=\"center\">161</td>\n",
       "<td align=\"center\">09-May-2017, 11:06</td>\n",
       "<td align=\"center\"><a href=\"sylvan.1day.html\">  0.00</a></td>\n",
       "<td align=\"center\"><a href=\"sylvan.3day.html\">  0.00</a></td>\n",
       "<td align=\"center\"><a href=\"sylvan.5day.html\">  0.16</a></td>\n",
       "<td align=\"center\">  0.39</td>\n",
       "<td align=\"center\"> 41.60</td>\n",
       "<td align=\"center\"><a href=\"sylvan.rain\">data table</a></td>\n",
       "</tr><tr>\n",
       "<td>Eco Roof Rain Gage<br>SW 12th and Clay</br></td>\n",
       "<td align=\"center\">164</td>\n",
       "<td align=\"center\">09-May-2017, 11:06</td>\n",
       "<td align=\"center\"><a href=\"twelfth_and_clay.1day.html\">  0.00</a></td>\n",
       "<td align=\"center\"><a href=\"twelfth_and_clay.3day.html\">  0.00</a></td>\n",
       "<td align=\"center\"><a href=\"twelfth_and_clay.5day.html\">  0.14</a></td>\n",
       "<td align=\"center\">  0.32</td>\n",
       "<td align=\"center\"> 54.25</td>\n",
       "<td align=\"center\"><a href=\"twelfth_and_clay.rain\">data table</a></td>\n",
       "</tr><tr>\n",
       "<td>Maplewood Elementary School Rain Gage<br>7452 SW. 52nd Ave.</br></td>\n",
       "<td align=\"center\">172</td>\n",
       "<td align=\"center\">09-May-2017, 11:06</td>\n",
       "<td align=\"center\"><a href=\"maplewood.1day.html\">  0.00</a></td>\n",
       "<td align=\"center\"><a href=\"maplewood.3day.html\">  0.00</a></td>\n",
       "<td align=\"center\"><a href=\"maplewood.5day.html\">  0.15</a></td>\n",
       "<td align=\"center\">  0.28</td>\n",
       "<td align=\"center\"> 46.02</td>\n",
       "<td align=\"center\"><a href=\"maplewood.rain\">data table</a></td>\n",
       "</tr><tr>\n",
       "<td>Children's Museum Rain Gage<br>4015 SW. Canyon Rd.</br></td>\n",
       "<td align=\"center\">192</td>\n",
       "<td align=\"center\">09-May-2017, 11:06</td>\n",
       "<td align=\"center\"><a href=\"museum.1day.html\">  0.00</a></td>\n",
       "<td align=\"center\"><a href=\"museum.3day.html\">  0.00</a></td>\n",
       "<td align=\"center\"><a href=\"museum.5day.html\">  0.23</a></td>\n",
       "<td align=\"center\">  0.46</td>\n",
       "<td align=\"center\"> 58.01</td>\n",
       "<td align=\"center\"><a href=\"museum.rain\">data table</a></td>\n",
       "</tr><tr>\n",
       "<td>OPB Rain Gage<br>SW. Macadam Ave.</br></td>\n",
       "<td align=\"center\">214</td>\n",
       "<td align=\"center\">09-May-2017, 11:06</td>\n",
       "<td align=\"center\"><a href=\"opb.1day.html\">  0.00</a></td>\n",
       "<td align=\"center\"><a href=\"opb.3day.html\">  0.00</a></td>\n",
       "<td align=\"center\"><a href=\"opb.5day.html\">  0.26</a></td>\n",
       "<td align=\"center\">  0.42</td>\n",
       "<td align=\"center\"> 56.98</td>\n",
       "<td align=\"center\"><a href=\"opb.rain\">data table</a></td>\n",
       "</tr><tr>\n",
       "<td align=\"center\" bgcolor=\"#00CCFF\" colspan=\"9\">South East Region</td>\n",
       "</tr><tr>\n",
       "<td colspan=\"3\">Southeast region -- average rainfall,  10 gages</td>\n",
       "<td align=\"center\">  0.00</td>\n",
       "<td align=\"center\">  0.00</td>\n",
       "<td align=\"center\">  0.24</td>\n",
       "<td align=\"center\">  0.48</td>\n",
       "<td align=\"center\"> 53.84</td>\n",
       "<td> </td>\n",
       "</tr><tr>\n",
       "<td>Mt. Tabor Maintenance Yard Rain Gage<br>6437 SE. Division St.</br></td>\n",
       "<td align=\"center\">6</td>\n",
       "<td align=\"center\">09-May-2017, 11:06</td>\n",
       "<td align=\"center\"><a href=\"mt_tabor.1day.html\">  0.00</a></td>\n",
       "<td align=\"center\"><a href=\"mt_tabor.3day.html\">  0.00</a></td>\n",
       "<td align=\"center\"><a href=\"mt_tabor.5day.html\">  0.29</a></td>\n",
       "<td align=\"center\">  0.55</td>\n",
       "<td align=\"center\"> 50.08</td>\n",
       "<td align=\"center\"><a href=\"mt_tabor.rain\">data table</a></td>\n",
       "</tr><tr>\n",
       "<td>Kelly School Rain Gage<br>9030 SE. Cooper St.</br></td>\n",
       "<td align=\"center\">14</td>\n",
       "<td align=\"center\">09-May-2017, 11:06</td>\n",
       "<td align=\"center\"><a href=\"kelly_school.1day.html\">  0.00</a></td>\n",
       "<td align=\"center\"><a href=\"kelly_school.3day.html\">  0.00</a></td>\n",
       "<td align=\"center\"><a href=\"kelly_school.5day.html\">  0.31</a></td>\n",
       "<td align=\"center\">  0.76</td>\n",
       "<td align=\"center\"> 54.04</td>\n",
       "<td align=\"center\"><a href=\"kelly_school.rain\">data table</a></td>\n",
       "</tr><tr>\n",
       "<td>Gresham Fire Dept. Rain Gage<br>1333 NW. Eastman Pkwy.</br></td>\n",
       "<td align=\"center\">20</td>\n",
       "<td align=\"center\">09-May-2017, 11:06</td>\n",
       "<td align=\"center\"><a href=\"gresham.1day.html\">  0.00</a></td>\n",
       "<td align=\"center\"><a href=\"gresham.3day.html\">  0.00</a></td>\n",
       "<td align=\"center\"><a href=\"gresham.5day.html\">  0.22</a></td>\n",
       "<td align=\"center\">  0.47</td>\n",
       "<td align=\"center\"> 54.54</td>\n",
       "<td align=\"center\"><a href=\"gresham.rain\">data table</a></td>\n",
       "</tr><tr>\n",
       "<td>Holgate Rain Gage<br>4507 SE. 136th Ave.</br></td>\n",
       "<td align=\"center\">21</td>\n",
       "<td align=\"center\" colspan=\"6\">Station was retired on 16-Feb-2012.</td>\n",
       "<td align=\"center\"><a href=\"holgate.rain\">data table</a></td>\n",
       "</tr><tr>\n",
       "<td>Harney Rain Gage<br>2033 SE. Harney St.</br></td>\n",
       "<td align=\"center\">64</td>\n",
       "<td align=\"center\">09-May-2017, 11:06</td>\n",
       "<td align=\"center\"><a href=\"harney_pump.1day.html\">  0.00</a></td>\n",
       "<td align=\"center\"><a href=\"harney_pump.3day.html\">  0.00</a></td>\n",
       "<td align=\"center\"><a href=\"harney_pump.5day.html\">  0.28</a></td>\n",
       "<td align=\"center\">  0.46</td>\n",
       "<td align=\"center\"> 57.91</td>\n",
       "<td align=\"center\"><a href=\"harney_pump.rain\">data table</a></td>\n",
       "</tr><tr>\n",
       "<td>Pleasant Valley School Rain Gage<br>17625 SE. Foster Rd.</br></td>\n",
       "<td align=\"center\">145</td>\n",
       "<td align=\"center\">09-May-2017, 11:06</td>\n",
       "<td align=\"center\"><a href=\"pleasant_valley.1day.html\">  0.00</a></td>\n",
       "<td align=\"center\"><a href=\"pleasant_valley.3day.html\">  0.00</a></td>\n",
       "<td align=\"center\"><a href=\"pleasant_valley.5day.html\">  0.19</a></td>\n",
       "<td align=\"center\">  0.40</td>\n",
       "<td align=\"center\"> 57.89</td>\n",
       "<td align=\"center\"><a href=\"pleasant_valley.rain\">data table</a></td>\n",
       "</tr><tr>\n",
       "<td>Sunnyside School Rain Gage<br>3421 SE. Salmon St.</br></td>\n",
       "<td align=\"center\">171</td>\n",
       "<td align=\"center\">09-May-2017, 11:06</td>\n",
       "<td align=\"center\"><a href=\"sunnyside.1day.html\">  0.00</a></td>\n",
       "<td align=\"center\"><a href=\"sunnyside.3day.html\">  0.00</a></td>\n",
       "<td align=\"center\"><a href=\"sunnyside.5day.html\">  0.14</a></td>\n",
       "<td align=\"center\">  0.32</td>\n",
       "<td align=\"center\"> 52.69</td>\n",
       "<td align=\"center\"><a href=\"sunnyside.rain\">data table</a></td>\n",
       "</tr><tr>\n",
       "<td>Arleta School Rain Gage<br>5109 SE. 66th Ave.</br></td>\n",
       "<td align=\"center\">174</td>\n",
       "<td align=\"center\">09-May-2017, 11:06</td>\n",
       "<td align=\"center\"><a href=\"arleta.1day.html\">  0.00</a></td>\n",
       "<td align=\"center\"><a href=\"arleta.3day.html\">  0.00</a></td>\n",
       "<td align=\"center\"><a href=\"arleta.5day.html\">  0.29</a></td>\n",
       "<td align=\"center\">  0.55</td>\n",
       "<td align=\"center\"> 51.81</td>\n",
       "<td align=\"center\"><a href=\"arleta.rain\">data table</a></td>\n",
       "</tr><tr>\n",
       "<td>Glencoe School Rain Gage<br>825 SE. 51st Ave.</br></td>\n",
       "<td align=\"center\">175</td>\n",
       "<td align=\"center\">09-May-2017, 11:06</td>\n",
       "<td align=\"center\"><a href=\"glencoe.1day.html\">  0.00</a></td>\n",
       "<td align=\"center\"><a href=\"glencoe.3day.html\">  0.00</a></td>\n",
       "<td align=\"center\"><a href=\"glencoe.5day.html\">  0.18</a></td>\n",
       "<td align=\"center\">  0.35</td>\n",
       "<td align=\"center\"> 52.66</td>\n",
       "<td align=\"center\"><a href=\"glencoe.rain\">data table</a></td>\n",
       "</tr><tr>\n",
       "<td>Multnomah Rain Gage<br>501 SE. Hawthorne Blvd.</br></td>\n",
       "<td align=\"center\">181</td>\n",
       "<td align=\"center\">09-May-2017, 11:06</td>\n",
       "<td align=\"center\"><a href=\"multnomah.1day.html\">  0.00</a></td>\n",
       "<td align=\"center\"><a href=\"multnomah.3day.html\">  0.00</a></td>\n",
       "<td align=\"center\"><a href=\"multnomah.5day.html\">  0.10</a></td>\n",
       "<td align=\"center\">  0.25</td>\n",
       "<td align=\"center\"> 51.77</td>\n",
       "<td align=\"center\"><a href=\"multnomah.rain\">data table</a></td>\n",
       "</tr><tr>\n",
       "<td>Park SE Yard Rain Gage<br>5669 SE. 136th Ave.</br></td>\n",
       "<td align=\"center\">217</td>\n",
       "<td align=\"center\">09-May-2017, 11:06</td>\n",
       "<td align=\"center\"><a href=\"park_se_yard.1day.html\">  0.00</a></td>\n",
       "<td align=\"center\"><a href=\"park_se_yard.3day.html\">  0.00</a></td>\n",
       "<td align=\"center\"><a href=\"park_se_yard.5day.html\">  0.35</a></td>\n",
       "<td align=\"center\">  0.66</td>\n",
       "<td align=\"center\"> 54.97</td>\n",
       "<td align=\"center\"><a href=\"park_se_yard.rain\">data table</a></td>\n",
       "</tr><tr>\n",
       "<td align=\"center\" bgcolor=\"#00CCFF\" colspan=\"9\">Other</td>\n",
       "</tr><tr>\n",
       "<td>Cottrell School Rain Gage<br>36225 SE. Proctor Rd., Boring</br></td>\n",
       "<td align=\"center\">146</td>\n",
       "<td align=\"center\">09-May-2017, 11:06</td>\n",
       "<td align=\"center\"><a href=\"cottrell_school.1day.html\">  0.00</a></td>\n",
       "<td align=\"center\"><a href=\"cottrell_school.3day.html\">  0.00</a></td>\n",
       "<td align=\"center\"><a href=\"cottrell_school.5day.html\">  0.21</a></td>\n",
       "<td align=\"center\">  0.67</td>\n",
       "<td align=\"center\"> 61.86</td>\n",
       "<td align=\"center\"><a href=\"cottrell_school.rain\">data table</a></td>\n",
       "<!--\n",
       "</tr><tr>\n",
       "<td>Rover<br>A portable temporary station--location may vary.<br>Note that station may be inactive.</td>\n",
       "<td align=center>149</td>\n",
       "<td align=center>07-Nov-1998, 0:00</td>\n",
       "<td align=center><a href=\"rover.1day.html\">  0.00</a></td>\n",
       "<td align=center><a href=\"rover.3day.html\">  0.00</a></td>\n",
       "<td align=center><a href=\"rover.5day.html\">  0.00</a></td>\n",
       "<td align=center>  0.00</td>\n",
       "<td align=center>  0.00</td>\n",
       "<td align=center><a href=\"rover.rain\">data table</a></td>\n",
       "-->\n",
       "</tr></table>\n",
       "<h2>Weather Links</h2>\n",
       "<ul>\n",
       "<li> <a href=\"http://www.wrh.noaa.gov/forecasts/display_special_product_versions.php?sid=pqr&amp;pil=afd\">National\n",
       "Weather Service:  Most recent area forecast discussion for Portland,\n",
       "updated several times per day</a></li>\n",
       "<li> <a href=\"links_weather.html\">Other weather links of interest</a></li>\n",
       "</ul>\n",
       "<p> </p>\n",
       "<!-- BEGIN USGS Footer Template -->\n",
       "<div id=\"usgsfooter\">\n",
       "<p id=\"usgsfooterbar\">\n",
       "<a href=\"https://www2.usgs.gov/laws/accessibility.html\" title=\"Accessibility Policy (Section 508)\">Accessibility</a>\n",
       "<a href=\"https://www2.usgs.gov/foia/\" title=\"Freedom of Information Act\">FOIA</a>\n",
       "<a href=\"https://www2.usgs.gov/laws/privacy.html\" title=\"Privacy policies of the U.S. Geological Survey.\">Privacy</a>\n",
       "<a href=\"https://www2.usgs.gov/laws/policies_notices.html\" title=\"Policies and notices that govern information posted on USGS Web sites.\">Policies and Notices</a>\n",
       "</p>\n",
       "<p id=\"usgsfootertext\">\n",
       "<a href=\"http://www.takepride.gov/\"><img alt=\"Take Pride in America logo\" height=\"58\" src=\"/includes/images/footer_graphic_takePride.jpg\" title=\"Take Pride in America Home Page\" width=\"60\"/></a>\n",
       "<a href=\"http://usa.gov/\"><img alt=\"USA.gov logo\" height=\"26\" src=\"/includes/images/footer_graphic_usagov.jpg\" title=\"USAGov: Government Made Easy\" width=\"90\"/></a>\n",
       "<a href=\"https://www.doi.gov/\">U.S. Department of the Interior</a> |\n",
       "    <a href=\"https://www.usgs.gov/\">U.S. Geological Survey</a><br/>\n",
       "    URL: https://or.water.usgs.gov/precip/index.html<br/>\n",
       "    Page Contact Information: <a href=\"mailto:sarounds@usgs.gov\">Stewart Rounds</a><br/>\n",
       "    \n",
       "    Page Last Modified: Thursday - Mar  9, 2017 at 12:10:43 EST\n",
       "  </p>\n",
       "</div>\n",
       "<!-- END USGS Footer Template -->\n",
       "</body></html>"
      ]
     },
     "execution_count": 41,
     "metadata": {},
     "output_type": "execute_result"
    }
   ],
   "source": [
    "soup"
   ]
  },
  {
   "cell_type": "code",
   "execution_count": 71,
   "metadata": {
    "collapsed": true
   },
   "outputs": [],
   "source": [
    "-"
   ]
  },
  {
   "cell_type": "code",
   "execution_count": 72,
   "metadata": {
    "collapsed": false
   },
   "outputs": [],
   "source": [
    "rs = RainStation('https://or.water.usgs.gov/precip/hayden_island.rain')"
   ]
  },
  {
   "cell_type": "code",
   "execution_count": 73,
   "metadata": {
    "collapsed": false
   },
   "outputs": [
    {
     "data": {
      "text/plain": [
       "RainStation(name=Hayden Island Rain Gage, address=1740 N. Jantzen Beach Ctr., url=https://or.water.usgs.gov/precip/hayden_island.rain)"
      ]
     },
     "execution_count": 73,
     "metadata": {},
     "output_type": "execute_result"
    }
   ],
   "source": [
    "rs"
   ]
  },
  {
   "cell_type": "code",
   "execution_count": 74,
   "metadata": {
    "collapsed": false
   },
   "outputs": [
    {
     "name": "stdout",
     "output_type": "stream",
     "text": [
      "This is the station name:Hayden Island Rain Gage, 1740 N. Jantzen Beach Ctr.\n"
     ]
    }
   ],
   "source": [
    "print(rs)"
   ]
  },
  {
   "cell_type": "code",
   "execution_count": null,
   "metadata": {
    "collapsed": true
   },
   "outputs": [],
   "source": []
  },
  {
   "cell_type": "code",
   "execution_count": null,
   "metadata": {
    "collapsed": true
   },
   "outputs": [],
   "source": []
  },
  {
   "cell_type": "code",
   "execution_count": null,
   "metadata": {
    "collapsed": true
   },
   "outputs": [],
   "source": []
  },
  {
   "cell_type": "code",
   "execution_count": null,
   "metadata": {
    "collapsed": true
   },
   "outputs": [],
   "source": []
  },
  {
   "cell_type": "code",
   "execution_count": 21,
   "metadata": {
    "collapsed": false
   },
   "outputs": [
    {
     "data": {
      "text/plain": [
       "<div id=\"usgscolorband\">\n",
       "<div id=\"usgsbanner\">\n",
       "<div id=\"usgsidentifier\"><a href=\"https://www.usgs.gov/\"><img alt=\"USGS - science for a changing world\" height=\"72\" src=\"/includes/images/header_graphic_usgsIdentifier_white.jpg\" title=\"U.S. Geological Survey Home Page\" width=\"178\"/></a></div>\n",
       "<div id=\"usgsccsabox\">\n",
       "<div id=\"usgsccsa\">\n",
       "<br/><a href=\"https://www.usgs.gov/\">USGS Home</a>\n",
       "<br/><a href=\"https://www2.usgs.gov/ask/\">Contact USGS</a>\n",
       "<br/><a href=\"http://search.usgs.gov/\">Search USGS</a>\n",
       "</div>\n",
       "</div>\n",
       "</div>\n",
       "</div>"
      ]
     },
     "execution_count": 21,
     "metadata": {},
     "output_type": "execute_result"
    }
   ],
   "source": [
    "soup.div"
   ]
  },
  {
   "cell_type": "code",
   "execution_count": 22,
   "metadata": {
    "collapsed": false
   },
   "outputs": [
    {
     "data": {
      "text/plain": [
       "[<a href=\"https://www.usgs.gov/\"><img alt=\"USGS - science for a changing world\" height=\"72\" src=\"/includes/images/header_graphic_usgsIdentifier_white.jpg\" title=\"U.S. Geological Survey Home Page\" width=\"178\"/></a>,\n",
       " <a href=\"https://www.usgs.gov/\">USGS Home</a>,\n",
       " <a href=\"https://www2.usgs.gov/ask/\">Contact USGS</a>,\n",
       " <a href=\"http://search.usgs.gov/\">Search USGS</a>,\n",
       " <a href=\"/\">Oregon Water Science Center</a>,\n",
       " <a href=\"http://www.enviro.ci.portland.or.us/\">City of Portland Bureau\n",
       " of Environmental Services</a>,\n",
       " <a href=\"rainfall_data_quality.html\">More information</a>,\n",
       " <a href=\"raingage_info/clickmap.html\"><img alt=\"location map\" height=\"185\" src=\"raingage_info/tn-clickmap.jpg\" width=\"241\"/></a>,\n",
       " <a href=\"hayden_island.1day.html\">  0.00</a>,\n",
       " <a href=\"hayden_island.3day.html\">  0.00</a>,\n",
       " <a href=\"hayden_island.5day.html\">  0.21</a>,\n",
       " <a href=\"hayden_island.rain\">data table</a>,\n",
       " <a href=\"open_meadows.1day.html\">  0.00</a>,\n",
       " <a href=\"open_meadows.3day.html\">  0.00</a>,\n",
       " <a href=\"open_meadows.5day.html\">  0.20</a>,\n",
       " <a href=\"open_meadows.rain\">data table</a>,\n",
       " <a href=\"shipyard.1day.html\">  0.00</a>,\n",
       " <a href=\"shipyard.3day.html\">  0.00</a>,\n",
       " <a href=\"shipyard.5day.html\">  0.11</a>,\n",
       " <a href=\"shipyard.rain\">data table</a>,\n",
       " <a href=\"columbia_ips.1day.html\">  0.00</a>,\n",
       " <a href=\"columbia_ips.3day.html\">  0.00</a>,\n",
       " <a href=\"columbia_ips.5day.html\">  0.19</a>,\n",
       " <a href=\"columbia_ips.rain\">data table</a>,\n",
       " <a href=\"albina.1day.html\">  0.00</a>,\n",
       " <a href=\"albina.3day.html\">  0.00</a>,\n",
       " <a href=\"albina.5day.html\">  0.07</a>,\n",
       " <a href=\"albina.rain\">data table</a>,\n",
       " <a href=\"swan_island.rain\">data table</a>,\n",
       " <a href=\"marine_drive.rain\">data table</a>,\n",
       " <a href=\"simmons.1day.html\">  0.00</a>,\n",
       " <a href=\"simmons.3day.html\">  0.00</a>,\n",
       " <a href=\"simmons.5day.html\">  0.06</a>,\n",
       " <a href=\"simmons.rain\">data table</a>,\n",
       " <a href=\"pcc_cascade.1day.html\">  0.00</a>,\n",
       " <a href=\"pcc_cascade.3day.html\">  0.00</a>,\n",
       " <a href=\"pcc_cascade.5day.html\">  0.14</a>,\n",
       " <a href=\"pcc_cascade.rain\">data table</a>,\n",
       " <a href=\"wpcl.1day.html\">  0.00</a>,\n",
       " <a href=\"wpcl.3day.html\">  0.00</a>,\n",
       " <a href=\"wpcl.5day.html\">  0.13</a>,\n",
       " <a href=\"wpcl.rain\">data table</a>,\n",
       " <a href=\"terminal4ne.rain\">data table</a>,\n",
       " <a href=\"astor.1day.html\">  0.00</a>,\n",
       " <a href=\"astor.3day.html\">  0.00</a>,\n",
       " <a href=\"astor.5day.html\">  0.14</a>,\n",
       " <a href=\"astor.rain\">data table</a>,\n",
       " <a href=\"swan_island_pump.1day.html\">  0.00</a>,\n",
       " <a href=\"swan_island_pump.3day.html\">  0.00</a>,\n",
       " <a href=\"swan_island_pump.5day.html\">  0.15</a>,\n",
       " <a href=\"swan_island_pump.rain\">data table</a>,\n",
       " <a href=\"skyline_school.1day.html\">  0.00</a>,\n",
       " <a href=\"skyline_school.3day.html\">  0.00</a>,\n",
       " <a href=\"skyline_school.5day.html\">  0.19</a>,\n",
       " <a href=\"skyline_school.rain\">data table</a>,\n",
       " <a href=\"sauvies_island.1day.html\">  0.00</a>,\n",
       " <a href=\"sauvies_island.3day.html\">  0.00</a>,\n",
       " <a href=\"sauvies_island.5day.html\">  0.19</a>,\n",
       " <a href=\"sauvies_island.rain\">data table</a>,\n",
       " <a href=\"bonny_slope.1day.html\">  0.00</a>,\n",
       " <a href=\"bonny_slope.3day.html\">  0.00</a>,\n",
       " <a href=\"bonny_slope.5day.html\">  0.00</a>,\n",
       " <a href=\"bonny_slope.rain\">data table</a>,\n",
       " <a href=\"yeon.1day.html\">  0.00</a>,\n",
       " <a href=\"yeon.3day.html\">  0.00</a>,\n",
       " <a href=\"yeon.5day.html\">  0.23</a>,\n",
       " <a href=\"yeon.rain\">data table</a>,\n",
       " <a href=\"guilds_lake.rain\">data table</a>,\n",
       " <a href=\"skyline_firesta.rain\">data table</a>,\n",
       " <a href=\"metro_center.1day.html\">  0.00</a>,\n",
       " <a href=\"metro_center.3day.html\">  0.00</a>,\n",
       " <a href=\"metro_center.5day.html\">  0.14</a>,\n",
       " <a href=\"metro_center.rain\">data table</a>,\n",
       " <a href=\"pdx_e_busipark.rain\">data table</a>,\n",
       " <a href=\"fernwood.1day.html\">  0.00</a>,\n",
       " <a href=\"fernwood.3day.html\">  0.00</a>,\n",
       " <a href=\"fernwood.5day.html\">  0.08</a>,\n",
       " <a href=\"fernwood.rain\">data table</a>,\n",
       " <a href=\"vernon.1day.html\">  0.00</a>,\n",
       " <a href=\"vernon.3day.html\">  0.00</a>,\n",
       " <a href=\"vernon.5day.html\">  0.09</a>,\n",
       " <a href=\"vernon.rain\">data table</a>,\n",
       " <a href=\"fremont.rain\">data table</a>,\n",
       " <a href=\"airport_way.1day.html\">  0.00</a>,\n",
       " <a href=\"airport_way.3day.html\">  0.00</a>,\n",
       " <a href=\"airport_way.5day.html\">  0.34</a>,\n",
       " <a href=\"airport_way.rain\">data table</a>,\n",
       " <a href=\"mallory.1day.html\">  0.00</a>,\n",
       " <a href=\"mallory.3day.html\">  0.00</a>,\n",
       " <a href=\"mallory.5day.html\">  0.20</a>,\n",
       " <a href=\"mallory.rain\">data table</a>,\n",
       " <a href=\"beaumont.1day.html\">  0.00</a>,\n",
       " <a href=\"beaumont.3day.html\">  0.00</a>,\n",
       " <a href=\"beaumont.5day.html\">  0.10</a>,\n",
       " <a href=\"beaumont.rain\">data table</a>,\n",
       " <a href=\"post_office.1day.html\">  0.00</a>,\n",
       " <a href=\"post_office.3day.html\">  0.00</a>,\n",
       " <a href=\"post_office.5day.html\">  0.12</a>,\n",
       " <a href=\"post_office.rain\">data table</a>,\n",
       " <a href=\"grant_park.rain\">data table</a>,\n",
       " <a href=\"madison.1day.html\">  0.00</a>,\n",
       " <a href=\"madison.3day.html\">  0.00</a>,\n",
       " <a href=\"madison.5day.html\">  0.16</a>,\n",
       " <a href=\"madison.rain\">data table</a>,\n",
       " <a href=\"walmart_ecoroof.1day.html\">  0.00</a>,\n",
       " <a href=\"walmart_ecoroof.3day.html\">  0.00</a>,\n",
       " <a href=\"walmart_ecoroof.5day.html\">  0.22</a>,\n",
       " <a href=\"walmart_ecoroof.rain\">data table</a>,\n",
       " <a href=\"ankeny.1day.html\">  0.00</a>,\n",
       " <a href=\"ankeny.3day.html\">  0.00</a>,\n",
       " <a href=\"ankeny.5day.html\">  0.10</a>,\n",
       " <a href=\"ankeny.rain\">data table</a>,\n",
       " <a href=\"pcc_sylvania.1day.html\">  0.00</a>,\n",
       " <a href=\"pcc_sylvania.3day.html\">  0.00</a>,\n",
       " <a href=\"pcc_sylvania.5day.html\">  0.27</a>,\n",
       " <a href=\"pcc_sylvania.rain\">data table</a>,\n",
       " <a href=\"collins_view.1day.html\">  0.00</a>,\n",
       " <a href=\"collins_view.3day.html\">  0.00</a>,\n",
       " <a href=\"collins_view.5day.html\">  0.44</a>,\n",
       " <a href=\"collins_view.rain\">data table</a>,\n",
       " <a href=\"vermont_hills.rain\">data table</a>,\n",
       " <a href=\"thomas.rain\">data table</a>,\n",
       " <a href=\"sylvan.1day.html\">  0.00</a>,\n",
       " <a href=\"sylvan.3day.html\">  0.00</a>,\n",
       " <a href=\"sylvan.5day.html\">  0.16</a>,\n",
       " <a href=\"sylvan.rain\">data table</a>,\n",
       " <a href=\"twelfth_and_clay.1day.html\">  0.00</a>,\n",
       " <a href=\"twelfth_and_clay.3day.html\">  0.00</a>,\n",
       " <a href=\"twelfth_and_clay.5day.html\">  0.14</a>,\n",
       " <a href=\"twelfth_and_clay.rain\">data table</a>,\n",
       " <a href=\"maplewood.1day.html\">  0.00</a>,\n",
       " <a href=\"maplewood.3day.html\">  0.00</a>,\n",
       " <a href=\"maplewood.5day.html\">  0.15</a>,\n",
       " <a href=\"maplewood.rain\">data table</a>,\n",
       " <a href=\"museum.1day.html\">  0.00</a>,\n",
       " <a href=\"museum.3day.html\">  0.00</a>,\n",
       " <a href=\"museum.5day.html\">  0.23</a>,\n",
       " <a href=\"museum.rain\">data table</a>,\n",
       " <a href=\"opb.1day.html\">  0.00</a>,\n",
       " <a href=\"opb.3day.html\">  0.00</a>,\n",
       " <a href=\"opb.5day.html\">  0.26</a>,\n",
       " <a href=\"opb.rain\">data table</a>,\n",
       " <a href=\"mt_tabor.1day.html\">  0.00</a>,\n",
       " <a href=\"mt_tabor.3day.html\">  0.00</a>,\n",
       " <a href=\"mt_tabor.5day.html\">  0.29</a>,\n",
       " <a href=\"mt_tabor.rain\">data table</a>,\n",
       " <a href=\"kelly_school.1day.html\">  0.00</a>,\n",
       " <a href=\"kelly_school.3day.html\">  0.00</a>,\n",
       " <a href=\"kelly_school.5day.html\">  0.31</a>,\n",
       " <a href=\"kelly_school.rain\">data table</a>,\n",
       " <a href=\"gresham.1day.html\">  0.00</a>,\n",
       " <a href=\"gresham.3day.html\">  0.00</a>,\n",
       " <a href=\"gresham.5day.html\">  0.22</a>,\n",
       " <a href=\"gresham.rain\">data table</a>,\n",
       " <a href=\"holgate.rain\">data table</a>,\n",
       " <a href=\"harney_pump.1day.html\">  0.00</a>,\n",
       " <a href=\"harney_pump.3day.html\">  0.00</a>,\n",
       " <a href=\"harney_pump.5day.html\">  0.28</a>,\n",
       " <a href=\"harney_pump.rain\">data table</a>,\n",
       " <a href=\"pleasant_valley.1day.html\">  0.00</a>,\n",
       " <a href=\"pleasant_valley.3day.html\">  0.00</a>,\n",
       " <a href=\"pleasant_valley.5day.html\">  0.19</a>,\n",
       " <a href=\"pleasant_valley.rain\">data table</a>,\n",
       " <a href=\"sunnyside.1day.html\">  0.00</a>,\n",
       " <a href=\"sunnyside.3day.html\">  0.00</a>,\n",
       " <a href=\"sunnyside.5day.html\">  0.14</a>,\n",
       " <a href=\"sunnyside.rain\">data table</a>,\n",
       " <a href=\"arleta.1day.html\">  0.00</a>,\n",
       " <a href=\"arleta.3day.html\">  0.00</a>,\n",
       " <a href=\"arleta.5day.html\">  0.29</a>,\n",
       " <a href=\"arleta.rain\">data table</a>,\n",
       " <a href=\"glencoe.1day.html\">  0.00</a>,\n",
       " <a href=\"glencoe.3day.html\">  0.00</a>,\n",
       " <a href=\"glencoe.5day.html\">  0.18</a>,\n",
       " <a href=\"glencoe.rain\">data table</a>,\n",
       " <a href=\"multnomah.1day.html\">  0.00</a>,\n",
       " <a href=\"multnomah.3day.html\">  0.00</a>,\n",
       " <a href=\"multnomah.5day.html\">  0.10</a>,\n",
       " <a href=\"multnomah.rain\">data table</a>,\n",
       " <a href=\"park_se_yard.1day.html\">  0.00</a>,\n",
       " <a href=\"park_se_yard.3day.html\">  0.00</a>,\n",
       " <a href=\"park_se_yard.5day.html\">  0.35</a>,\n",
       " <a href=\"park_se_yard.rain\">data table</a>,\n",
       " <a href=\"cottrell_school.1day.html\">  0.00</a>,\n",
       " <a href=\"cottrell_school.3day.html\">  0.00</a>,\n",
       " <a href=\"cottrell_school.5day.html\">  0.21</a>,\n",
       " <a href=\"cottrell_school.rain\">data table</a>,\n",
       " <a href=\"http://www.wrh.noaa.gov/forecasts/display_special_product_versions.php?sid=pqr&amp;pil=afd\">National\n",
       " Weather Service:  Most recent area forecast discussion for Portland,\n",
       " updated several times per day</a>,\n",
       " <a href=\"links_weather.html\">Other weather links of interest</a>,\n",
       " <a href=\"https://www2.usgs.gov/laws/accessibility.html\" title=\"Accessibility Policy (Section 508)\">Accessibility</a>,\n",
       " <a href=\"https://www2.usgs.gov/foia/\" title=\"Freedom of Information Act\">FOIA</a>,\n",
       " <a href=\"https://www2.usgs.gov/laws/privacy.html\" title=\"Privacy policies of the U.S. Geological Survey.\">Privacy</a>,\n",
       " <a href=\"https://www2.usgs.gov/laws/policies_notices.html\" title=\"Policies and notices that govern information posted on USGS Web sites.\">Policies and Notices</a>,\n",
       " <a href=\"http://www.takepride.gov/\"><img alt=\"Take Pride in America logo\" height=\"58\" src=\"/includes/images/footer_graphic_takePride.jpg\" title=\"Take Pride in America Home Page\" width=\"60\"/></a>,\n",
       " <a href=\"http://usa.gov/\"><img alt=\"USA.gov logo\" height=\"26\" src=\"/includes/images/footer_graphic_usagov.jpg\" title=\"USAGov: Government Made Easy\" width=\"90\"/></a>,\n",
       " <a href=\"https://www.doi.gov/\">U.S. Department of the Interior</a>,\n",
       " <a href=\"https://www.usgs.gov/\">U.S. Geological Survey</a>,\n",
       " <a href=\"mailto:sarounds@usgs.gov\">Stewart Rounds</a>]"
      ]
     },
     "execution_count": 22,
     "metadata": {},
     "output_type": "execute_result"
    }
   ],
   "source": [
    "soup.find_all('a')"
   ]
  },
  {
   "cell_type": "code",
   "execution_count": null,
   "metadata": {
    "collapsed": true
   },
   "outputs": [],
   "source": []
  },
  {
   "cell_type": "code",
   "execution_count": null,
   "metadata": {
    "collapsed": true
   },
   "outputs": [],
   "source": []
  },
  {
   "cell_type": "code",
   "execution_count": 23,
   "metadata": {
    "collapsed": false
   },
   "outputs": [
    {
     "data": {
      "text/plain": [
       "[<a href=\"hayden_island.rain\">data table</a>,\n",
       " <a href=\"open_meadows.rain\">data table</a>,\n",
       " <a href=\"shipyard.rain\">data table</a>,\n",
       " <a href=\"columbia_ips.rain\">data table</a>,\n",
       " <a href=\"albina.rain\">data table</a>,\n",
       " <a href=\"swan_island.rain\">data table</a>,\n",
       " <a href=\"marine_drive.rain\">data table</a>,\n",
       " <a href=\"simmons.rain\">data table</a>,\n",
       " <a href=\"pcc_cascade.rain\">data table</a>,\n",
       " <a href=\"wpcl.rain\">data table</a>,\n",
       " <a href=\"terminal4ne.rain\">data table</a>,\n",
       " <a href=\"astor.rain\">data table</a>,\n",
       " <a href=\"swan_island_pump.rain\">data table</a>,\n",
       " <a href=\"skyline_school.rain\">data table</a>,\n",
       " <a href=\"sauvies_island.rain\">data table</a>,\n",
       " <a href=\"bonny_slope.rain\">data table</a>,\n",
       " <a href=\"yeon.rain\">data table</a>,\n",
       " <a href=\"guilds_lake.rain\">data table</a>,\n",
       " <a href=\"skyline_firesta.rain\">data table</a>,\n",
       " <a href=\"metro_center.rain\">data table</a>,\n",
       " <a href=\"pdx_e_busipark.rain\">data table</a>,\n",
       " <a href=\"fernwood.rain\">data table</a>,\n",
       " <a href=\"vernon.rain\">data table</a>,\n",
       " <a href=\"fremont.rain\">data table</a>,\n",
       " <a href=\"airport_way.rain\">data table</a>,\n",
       " <a href=\"mallory.rain\">data table</a>,\n",
       " <a href=\"beaumont.rain\">data table</a>,\n",
       " <a href=\"post_office.rain\">data table</a>,\n",
       " <a href=\"grant_park.rain\">data table</a>,\n",
       " <a href=\"madison.rain\">data table</a>,\n",
       " <a href=\"walmart_ecoroof.rain\">data table</a>,\n",
       " <a href=\"ankeny.rain\">data table</a>,\n",
       " <a href=\"pcc_sylvania.rain\">data table</a>,\n",
       " <a href=\"collins_view.rain\">data table</a>,\n",
       " <a href=\"vermont_hills.rain\">data table</a>,\n",
       " <a href=\"thomas.rain\">data table</a>,\n",
       " <a href=\"sylvan.rain\">data table</a>,\n",
       " <a href=\"twelfth_and_clay.rain\">data table</a>,\n",
       " <a href=\"maplewood.rain\">data table</a>,\n",
       " <a href=\"museum.rain\">data table</a>,\n",
       " <a href=\"opb.rain\">data table</a>,\n",
       " <a href=\"mt_tabor.rain\">data table</a>,\n",
       " <a href=\"kelly_school.rain\">data table</a>,\n",
       " <a href=\"gresham.rain\">data table</a>,\n",
       " <a href=\"holgate.rain\">data table</a>,\n",
       " <a href=\"harney_pump.rain\">data table</a>,\n",
       " <a href=\"pleasant_valley.rain\">data table</a>,\n",
       " <a href=\"sunnyside.rain\">data table</a>,\n",
       " <a href=\"arleta.rain\">data table</a>,\n",
       " <a href=\"glencoe.rain\">data table</a>,\n",
       " <a href=\"multnomah.rain\">data table</a>,\n",
       " <a href=\"park_se_yard.rain\">data table</a>,\n",
       " <a href=\"cottrell_school.rain\">data table</a>]"
      ]
     },
     "execution_count": 23,
     "metadata": {},
     "output_type": "execute_result"
    }
   ],
   "source": [
    "[anchor for anchor in soup.find_all('a') if '.rain' in anchor['href']]"
   ]
  },
  {
   "cell_type": "code",
   "execution_count": 25,
   "metadata": {
    "collapsed": false
   },
   "outputs": [],
   "source": [
    "list_only_quotes = [anchor['href'] for anchor in soup.find_all('a') if '.rain' in anchor['href']]"
   ]
  },
  {
   "cell_type": "code",
   "execution_count": 26,
   "metadata": {
    "collapsed": false
   },
   "outputs": [
    {
     "data": {
      "text/plain": [
       "['hayden_island.rain',\n",
       " 'open_meadows.rain',\n",
       " 'shipyard.rain',\n",
       " 'columbia_ips.rain',\n",
       " 'albina.rain',\n",
       " 'swan_island.rain',\n",
       " 'marine_drive.rain',\n",
       " 'simmons.rain',\n",
       " 'pcc_cascade.rain',\n",
       " 'wpcl.rain',\n",
       " 'terminal4ne.rain',\n",
       " 'astor.rain',\n",
       " 'swan_island_pump.rain',\n",
       " 'skyline_school.rain',\n",
       " 'sauvies_island.rain',\n",
       " 'bonny_slope.rain',\n",
       " 'yeon.rain',\n",
       " 'guilds_lake.rain',\n",
       " 'skyline_firesta.rain',\n",
       " 'metro_center.rain',\n",
       " 'pdx_e_busipark.rain',\n",
       " 'fernwood.rain',\n",
       " 'vernon.rain',\n",
       " 'fremont.rain',\n",
       " 'airport_way.rain',\n",
       " 'mallory.rain',\n",
       " 'beaumont.rain',\n",
       " 'post_office.rain',\n",
       " 'grant_park.rain',\n",
       " 'madison.rain',\n",
       " 'walmart_ecoroof.rain',\n",
       " 'ankeny.rain',\n",
       " 'pcc_sylvania.rain',\n",
       " 'collins_view.rain',\n",
       " 'vermont_hills.rain',\n",
       " 'thomas.rain',\n",
       " 'sylvan.rain',\n",
       " 'twelfth_and_clay.rain',\n",
       " 'maplewood.rain',\n",
       " 'museum.rain',\n",
       " 'opb.rain',\n",
       " 'mt_tabor.rain',\n",
       " 'kelly_school.rain',\n",
       " 'gresham.rain',\n",
       " 'holgate.rain',\n",
       " 'harney_pump.rain',\n",
       " 'pleasant_valley.rain',\n",
       " 'sunnyside.rain',\n",
       " 'arleta.rain',\n",
       " 'glencoe.rain',\n",
       " 'multnomah.rain',\n",
       " 'park_se_yard.rain',\n",
       " 'cottrell_school.rain']"
      ]
     },
     "execution_count": 26,
     "metadata": {},
     "output_type": "execute_result"
    }
   ],
   "source": [
    "list_only_quotes"
   ]
  },
  {
   "cell_type": "code",
   "execution_count": 28,
   "metadata": {
    "collapsed": true
   },
   "outputs": [],
   "source": [
    "anchor = soup.a\n"
   ]
  },
  {
   "cell_type": "code",
   "execution_count": 29,
   "metadata": {
    "collapsed": false
   },
   "outputs": [
    {
     "data": {
      "text/plain": [
       "<a href=\"https://www.usgs.gov/\"><img alt=\"USGS - science for a changing world\" height=\"72\" src=\"/includes/images/header_graphic_usgsIdentifier_white.jpg\" title=\"U.S. Geological Survey Home Page\" width=\"178\"/></a>"
      ]
     },
     "execution_count": 29,
     "metadata": {},
     "output_type": "execute_result"
    }
   ],
   "source": [
    "anchor"
   ]
  },
  {
   "cell_type": "code",
   "execution_count": 30,
   "metadata": {
    "collapsed": false
   },
   "outputs": [
    {
     "data": {
      "text/plain": [
       "'USGS - science for a changing world'"
      ]
     },
     "execution_count": 30,
     "metadata": {},
     "output_type": "execute_result"
    }
   ],
   "source": [
    "soup.img['alt']"
   ]
  },
  {
   "cell_type": "code",
   "execution_count": null,
   "metadata": {
    "collapsed": true
   },
   "outputs": [],
   "source": []
  },
  {
   "cell_type": "code",
   "execution_count": 33,
   "metadata": {
    "collapsed": false
   },
   "outputs": [
    {
     "ename": "NameError",
     "evalue": "name 'img' is not defined",
     "output_type": "error",
     "traceback": [
      "\u001b[0;31m---------------------------------------------------------------------------\u001b[0m",
      "\u001b[0;31mNameError\u001b[0m                                 Traceback (most recent call last)",
      "\u001b[0;32m<ipython-input-33-7234c769169c>\u001b[0m in \u001b[0;36m<module>\u001b[0;34m()\u001b[0m\n\u001b[0;32m----> 1\u001b[0;31m \u001b[0msoup\u001b[0m\u001b[0;34m.\u001b[0m\u001b[0mfind_all\u001b[0m\u001b[0;34m[\u001b[0m\u001b[0mimg\u001b[0m\u001b[0;34m]\u001b[0m\u001b[0;34m\u001b[0m\u001b[0m\n\u001b[0m",
      "\u001b[0;31mNameError\u001b[0m: name 'img' is not defined"
     ]
    }
   ],
   "source": []
  },
  {
   "cell_type": "code",
   "execution_count": 57,
   "metadata": {
    "collapsed": true
   },
   "outputs": [],
   "source": [
    "data = \"\"\"Hayden Island Rain Gage - 1740 N. Jantzen Beach Ctr.\n",
    "\n",
    "PROVISIONAL, UNCORRECTED RAW DATA FROM THE CITY OF PORTLAND HYDRA NETWORK.\n",
    "Data are the number of tips of the rain gage bucket.\n",
    "Each tip is 0.01 inches of rainfall.\n",
    " [-, missing data]\n",
    "Dates and times are PACIFIC STANDARD TIME.\n",
    "\n",
    "            Daily  Hourly data -->\n",
    "   Date     Total    0   1   2   3   4   5   6   7   8   9  10  11  12  13  14  15  16  17  18  19  20  21  22  23\n",
    "------------------------------------------------------------------------------------------------------------------\n",
    "09-MAY-2017     0    0   0   0   0   0   0   0   0   0   0   0\n",
    "08-MAY-2017     0    0   0   0   0   0   0   0   0   0   0   0   0   0   0   0   0   0   0   0   0   0   0   0   0\n",
    "07-MAY-2017     0    0   0   0   0   0   0   0   0   0   0   0   0   0   0   0   0   0   0   0   0   0   0   0   0\"\"\""
   ]
  },
  {
   "cell_type": "code",
   "execution_count": 58,
   "metadata": {
    "collapsed": false
   },
   "outputs": [
    {
     "data": {
      "text/plain": [
       "['Hayden Island Rain Gage - 1740 N. Jantzen Beach Ctr.',\n",
       " '',\n",
       " 'PROVISIONAL, UNCORRECTED RAW DATA FROM THE CITY OF PORTLAND HYDRA NETWORK.',\n",
       " 'Data are the number of tips of the rain gage bucket.',\n",
       " 'Each tip is 0.01 inches of rainfall.',\n",
       " ' [-, missing data]',\n",
       " 'Dates and times are PACIFIC STANDARD TIME.',\n",
       " '',\n",
       " '            Daily  Hourly data -->',\n",
       " '   Date     Total    0   1   2   3   4   5   6   7   8   9  10  11  12  13  14  15  16  17  18  19  20  21  22  23',\n",
       " '------------------------------------------------------------------------------------------------------------------',\n",
       " '09-MAY-2017     0    0   0   0   0   0   0   0   0   0   0   0',\n",
       " '08-MAY-2017     0    0   0   0   0   0   0   0   0   0   0   0   0   0   0   0   0   0   0   0   0   0   0   0   0',\n",
       " '07-MAY-2017     0    0   0   0   0   0   0   0   0   0   0   0   0   0   0   0   0   0   0   0   0   0   0   0   0']"
      ]
     },
     "execution_count": 58,
     "metadata": {},
     "output_type": "execute_result"
    }
   ],
   "source": [
    "data.splitlines()"
   ]
  },
  {
   "cell_type": "code",
   "execution_count": 62,
   "metadata": {
    "collapsed": false
   },
   "outputs": [
    {
     "data": {
      "text/plain": [
       "['Hayden Island Rain Gage', ' 1740 N. Jantzen Beach Ctr.']"
      ]
     },
     "execution_count": 62,
     "metadata": {},
     "output_type": "execute_result"
    }
   ],
   "source": [
    "data.splitlines()[0].split(' -' )"
   ]
  },
  {
   "cell_type": "markdown",
   "metadata": {},
   "source": []
  },
  {
   "cell_type": "code",
   "execution_count": 64,
   "metadata": {
    "collapsed": false
   },
   "outputs": [],
   "source": [
    "name, address = data.splitlines()[0].split(' - ')"
   ]
  },
  {
   "cell_type": "raw",
   "metadata": {},
   "source": []
  },
  {
   "cell_type": "code",
   "execution_count": 65,
   "metadata": {
    "collapsed": false
   },
   "outputs": [
    {
     "name": "stdout",
     "output_type": "stream",
     "text": [
      "Hayden Island Rain Gage 1740 N. Jantzen Beach Ctr.\n"
     ]
    }
   ],
   "source": [
    "print(name, address)"
   ]
  },
  {
   "cell_type": "code",
   "execution_count": null,
   "metadata": {
    "collapsed": true
   },
   "outputs": [],
   "source": []
  },
  {
   "cell_type": "code",
   "execution_count": null,
   "metadata": {
    "collapsed": true
   },
   "outputs": [],
   "source": []
  },
  {
   "cell_type": "code",
   "execution_count": null,
   "metadata": {
    "collapsed": true
   },
   "outputs": [],
   "source": []
  },
  {
   "cell_type": "code",
   "execution_count": null,
   "metadata": {
    "collapsed": true
   },
   "outputs": [],
   "source": []
  },
  {
   "cell_type": "code",
   "execution_count": null,
   "metadata": {
    "collapsed": true
   },
   "outputs": [],
   "source": []
  },
  {
   "cell_type": "code",
   "execution_count": null,
   "metadata": {
    "collapsed": true
   },
   "outputs": [],
   "source": []
  },
  {
   "cell_type": "code",
   "execution_count": null,
   "metadata": {
    "collapsed": true
   },
   "outputs": [],
   "source": []
  },
  {
   "cell_type": "code",
   "execution_count": null,
   "metadata": {
    "collapsed": true
   },
   "outputs": [],
   "source": []
  },
  {
   "cell_type": "code",
   "execution_count": null,
   "metadata": {
    "collapsed": true
   },
   "outputs": [],
   "source": []
  }
 ],
 "metadata": {
  "kernelspec": {
   "display_name": "Python 3",
   "language": "python",
   "name": "python3"
  },
  "language_info": {
   "codemirror_mode": {
    "name": "ipython",
    "version": 3
   },
   "file_extension": ".py",
   "mimetype": "text/x-python",
   "name": "python",
   "nbconvert_exporter": "python",
   "pygments_lexer": "ipython3",
   "version": "3.6.0"
  }
 },
 "nbformat": 4,
 "nbformat_minor": 2
}
