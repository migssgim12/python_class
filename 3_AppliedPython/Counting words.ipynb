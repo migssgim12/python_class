{
 "cells": [
  {
   "cell_type": "markdown",
   "metadata": {},
   "source": [
    "#### counting words\n",
    "\n",
    "\n",
    "- \n",
    "\n",
    "\n",
    "\n"
   ]
  },
  {
   "cell_type": "code",
   "execution_count": 1,
   "metadata": {
    "collapsed": true
   },
   "outputs": [],
   "source": [
    "phrase = \"\"\"\n",
    "To be or not to be a rabbit with pink ears.\n",
    "\"\"\"\n"
   ]
  },
  {
   "cell_type": "code",
   "execution_count": 4,
   "metadata": {
    "collapsed": false
   },
   "outputs": [
    {
     "data": {
      "text/plain": [
       "[1, 2, 1, 1, 1, 2, 3, 1, 1, 1, 1]"
      ]
     },
     "execution_count": 4,
     "metadata": {},
     "output_type": "execute_result"
    }
   ],
   "source": [
    "phrase.split()\n",
    "\n",
    "[phrase.count(word)for word in phrase.split()]"
   ]
  },
  {
   "cell_type": "code",
   "execution_count": 8,
   "metadata": {
    "collapsed": false
   },
   "outputs": [
    {
     "name": "stdout",
     "output_type": "stream",
     "text": [
      "\n",
      "To be or not to be a rabbit with pink ears.\n",
      "\n"
     ]
    }
   ],
   "source": [
    "print(phrase)"
   ]
  },
  {
   "cell_type": "code",
   "execution_count": 9,
   "metadata": {
    "collapsed": false
   },
   "outputs": [],
   "source": [
    "word_counts = dict()            #Initialize Empty Dict\n",
    "\n",
    "clean_phrase = phrase.lower()\n",
    "\n",
    "split_up = phrase.split()       # A list of words\n",
    "\n",
    "for word in split_up:\n",
    "    if word in word_counts:     # Check if word is in dictionary word counts\n",
    "        word_counts[word] += 1  # if it is - increment its count by one\n",
    "       \n",
    "    else:\n",
    "        word_counts[word] = 1\n",
    "    # if it has never been seen before, add it to the dictionary with a value of 1\n",
    "    \n"
   ]
  },
  {
   "cell_type": "code",
   "execution_count": null,
   "metadata": {
    "collapsed": true
   },
   "outputs": [],
   "source": [
    "word_counts = dict()            #Initialize Empty Dict\n",
    "\n",
    "clean_phrase = phrase.lower()\n",
    "\n",
    "split_up = phrase.split()       # A list of words\n",
    "\n",
    "for word in split_up:\n",
    "    try:\n",
    "        # Check if word is in dictionary word counts\n",
    "        word_counts[word] += 1  # if it is - increment its count by one\n",
    "       \n",
    "    except KeyError:\n",
    "        word_counts[word] = 1\n",
    "    # if it has never been seen before, add it to the dictionary with a value of 1"
   ]
  },
  {
   "cell_type": "code",
   "execution_count": null,
   "metadata": {
    "collapsed": true
   },
   "outputs": [],
   "source": []
  },
  {
   "cell_type": "code",
   "execution_count": null,
   "metadata": {
    "collapsed": true
   },
   "outputs": [],
   "source": []
  },
  {
   "cell_type": "code",
   "execution_count": null,
   "metadata": {
    "collapsed": true
   },
   "outputs": [],
   "source": []
  },
  {
   "cell_type": "code",
   "execution_count": null,
   "metadata": {
    "collapsed": true
   },
   "outputs": [],
   "source": []
  },
  {
   "cell_type": "code",
   "execution_count": null,
   "metadata": {
    "collapsed": true
   },
   "outputs": [],
   "source": []
  }
 ],
 "metadata": {
  "kernelspec": {
   "display_name": "Python 3",
   "language": "python",
   "name": "python3"
  },
  "language_info": {
   "codemirror_mode": {
    "name": "ipython",
    "version": 3
   },
   "file_extension": ".py",
   "mimetype": "text/x-python",
   "name": "python",
   "nbconvert_exporter": "python",
   "pygments_lexer": "ipython3",
   "version": "3.6.0"
  }
 },
 "nbformat": 4,
 "nbformat_minor": 2
}
