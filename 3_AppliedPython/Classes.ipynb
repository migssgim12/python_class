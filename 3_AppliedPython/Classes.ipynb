{
 "cells": [
  {
   "cell_type": "markdown",
   "metadata": {},
   "source": [
    "#### Classes \n",
    " - object oriented programming\n",
    " - can give a whole set of functions a class\n",
    " - custom types \n",
    " - inheritance \n",
    " - class LargeVehicle(what is in parens is not necessary):\n",
    " - with a variable that invokes the function if you do the parens LargeVehicule()\n",
    " - or you can refer to it without the ()\n",
    " - functions within classes have to be identified as 'self'"
   ]
  },
  {
   "cell_type": "code",
   "execution_count": null,
   "metadata": {
    "collapsed": true
   },
   "outputs": [],
   "source": []
  },
  {
   "cell_type": "code",
   "execution_count": null,
   "metadata": {
    "collapsed": true
   },
   "outputs": [],
   "source": []
  },
  {
   "cell_type": "code",
   "execution_count": null,
   "metadata": {
    "collapsed": true
   },
   "outputs": [],
   "source": []
  },
  {
   "cell_type": "code",
   "execution_count": null,
   "metadata": {
    "collapsed": true
   },
   "outputs": [],
   "source": []
  },
  {
   "cell_type": "code",
   "execution_count": 6,
   "metadata": {
    "collapsed": false
   },
   "outputs": [],
   "source": [
    "class Vehicule:\n",
    "    \"\"\"\n",
    "    This is an abstrat of the objects purpose\n",
    "    \"\"\"\n",
    "    \n",
    "    result = 1 + 1\n",
    "    def turn(self, direction: str) -> None: \n",
    "        \"\"\"Instance Method\"\"\"\n",
    "        print('Makes a {} turn'.format(direction))"
   ]
  },
  {
   "cell_type": "code",
   "execution_count": 7,
   "metadata": {
    "collapsed": false
   },
   "outputs": [
    {
     "name": "stdout",
     "output_type": "stream",
     "text": [
      "<__main__.Vehicule object at 0x7fe17c62ffd0>\n"
     ]
    }
   ],
   "source": [
    "ferrari = Vehicule()\n",
    "print(ferrari)"
   ]
  },
  {
   "cell_type": "code",
   "execution_count": 8,
   "metadata": {
    "collapsed": false
   },
   "outputs": [
    {
     "name": "stdout",
     "output_type": "stream",
     "text": [
      "Makes a right turn\n"
     ]
    }
   ],
   "source": [
    "ferrari.turn('right')"
   ]
  },
  {
   "cell_type": "code",
   "execution_count": null,
   "metadata": {
    "collapsed": true
   },
   "outputs": [],
   "source": []
  },
  {
   "cell_type": "code",
   "execution_count": 16,
   "metadata": {
    "collapsed": false
   },
   "outputs": [],
   "source": [
    "class Vehicule:\n",
    "    \"\"\"\n",
    "    This is an abstrat of the objects purpose\n",
    "    \"\"\"\n",
    "    \n",
    "    def __init__(self, color, doors=4, tires=4, wheels=4, cylinders=4):  #This is an initializer'\n",
    "        \"\"\"\n",
    "        By convention, this is first.\n",
    "        \n",
    "        In many languages known as the \"Constructor\".\n",
    "        Really an \"initializer\". - A set of instructions to make a single instance of this type\n",
    "        \"\"\"\n",
    "        self.color = color  # Setting an initial value\n",
    "        self.doors = doors\n",
    "        self.tires = tires\n",
    "        self.wheels = wheels\n",
    "        self.cylinders = cylinders\n",
    "        \n",
    "        \n",
    "    \n",
    "    def turn(self, direction: str) -> None: \n",
    "        \"\"\"Instance Method\"\"\"\n",
    "        print('Makes a {} turn'.format(direction))\n",
    "        print(self.result)"
   ]
  },
  {
   "cell_type": "code",
   "execution_count": 17,
   "metadata": {
    "collapsed": false
   },
   "outputs": [],
   "source": [
    "ferrari = Vehicule(color = 'red')"
   ]
  },
  {
   "cell_type": "code",
   "execution_count": 18,
   "metadata": {
    "collapsed": false
   },
   "outputs": [
    {
     "data": {
      "text/plain": [
       "'red'"
      ]
     },
     "execution_count": 18,
     "metadata": {},
     "output_type": "execute_result"
    }
   ],
   "source": [
    "ferrari.color"
   ]
  },
  {
   "cell_type": "code",
   "execution_count": null,
   "metadata": {
    "collapsed": true
   },
   "outputs": [],
   "source": []
  },
  {
   "cell_type": "code",
   "execution_count": 32,
   "metadata": {
    "collapsed": true
   },
   "outputs": [],
   "source": [
    "class Monument:\n",
    "    def __init__(self, location, title, material, age, memo):\n",
    "        self.location = location\n",
    "        self.title = title\n",
    "        self.material = material\n",
    "        self.age = age\n",
    "        self.memo = memo\n",
    "    def __repr__(self):\n",
    "        return 'Monument: {}'.format(self.title)"
   ]
  },
  {
   "cell_type": "code",
   "execution_count": 33,
   "metadata": {
    "collapsed": false
   },
   "outputs": [],
   "source": [
    "yellowstone_arch = Monument('Wyoming', 'Yellowstone National Park', 'earth', 100,'Named in 1872')"
   ]
  },
  {
   "cell_type": "code",
   "execution_count": 34,
   "metadata": {
    "collapsed": false
   },
   "outputs": [
    {
     "data": {
      "text/plain": [
       "Monument: Yellowstone National Park"
      ]
     },
     "execution_count": 34,
     "metadata": {},
     "output_type": "execute_result"
    }
   ],
   "source": [
    "yellowstone_arch"
   ]
  },
  {
   "cell_type": "code",
   "execution_count": null,
   "metadata": {
    "collapsed": true
   },
   "outputs": [],
   "source": []
  },
  {
   "cell_type": "code",
   "execution_count": null,
   "metadata": {
    "collapsed": true
   },
   "outputs": [],
   "source": []
  },
  {
   "cell_type": "code",
   "execution_count": null,
   "metadata": {
    "collapsed": true
   },
   "outputs": [],
   "source": []
  },
  {
   "cell_type": "code",
   "execution_count": null,
   "metadata": {
    "collapsed": true
   },
   "outputs": [],
   "source": []
  }
 ],
 "metadata": {
  "kernelspec": {
   "display_name": "Python 3",
   "language": "python",
   "name": "python3"
  },
  "language_info": {
   "codemirror_mode": {
    "name": "ipython",
    "version": 3
   },
   "file_extension": ".py",
   "mimetype": "text/x-python",
   "name": "python",
   "nbconvert_exporter": "python",
   "pygments_lexer": "ipython3",
   "version": "3.6.0"
  }
 },
 "nbformat": 4,
 "nbformat_minor": 2
}
