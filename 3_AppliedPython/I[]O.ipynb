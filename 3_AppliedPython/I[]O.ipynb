{
 "cells": [
  {
   "cell_type": "markdown",
   "metadata": {},
   "source": [
    "###File I/O\n",
    "\n"
   ]
  },
  {
   "cell_type": "code",
   "execution_count": 1,
   "metadata": {
    "collapsed": false
   },
   "outputs": [
    {
     "name": "stdout",
     "output_type": "stream",
     "text": [
      "dictionaries and sets.ipynb           RegExpressions.ipynb\r\n",
      "dictionary.txt                        scrub.py\r\n",
      "Exception Handling[]Generators.ipynb  sets (dictionaries cont).ipynb\r\n",
      "phone_book.py                         unique.py\r\n",
      "\u001b[0m\u001b[01;34m__pycache__\u001b[0m/                          Untitled1.ipynb\r\n",
      "quantify_words.py                     Untitled.ipynb\r\n",
      "RegEx continued.ipynb                 voting_booth.py\r\n"
     ]
    }
   ],
   "source": [
    "ls"
   ]
  },
  {
   "cell_type": "code",
   "execution_count": 37,
   "metadata": {
    "collapsed": false
   },
   "outputs": [],
   "source": [
    "path = '/home/migs/Documents/PythonFullStack/1_Python/3_Applied_Python/labs/ari/books/jack_and_jill.txt'\n"
   ]
  },
  {
   "cell_type": "code",
   "execution_count": 30,
   "metadata": {
    "collapsed": false
   },
   "outputs": [],
   "source": [
    "file = open(path, 'r') # Read only "
   ]
  },
  {
   "cell_type": "code",
   "execution_count": 32,
   "metadata": {
    "collapsed": false
   },
   "outputs": [],
   "source": [
    "def get_data(path):\n",
    "    with open(path, 'r') as file:  # Open returns a file object \n",
    "        text = file.read() # .read is a file object that retruns a file object as a single string\n",
    "        return text"
   ]
  },
  {
   "cell_type": "code",
   "execution_count": null,
   "metadata": {
    "collapsed": true
   },
   "outputs": [],
   "source": [
    "def get_data(path):\n",
    "    with open(path, 'r') as file:  # Open returns a file object \n",
    "        text = file.read() # .read is a file object that retruns a file object as a single string\n",
    "        return text"
   ]
  },
  {
   "cell_type": "code",
   "execution_count": null,
   "metadata": {
    "collapsed": true
   },
   "outputs": [],
   "source": []
  },
  {
   "cell_type": "code",
   "execution_count": null,
   "metadata": {
    "collapsed": true
   },
   "outputs": [],
   "source": []
  },
  {
   "cell_type": "code",
   "execution_count": 33,
   "metadata": {
    "collapsed": false
   },
   "outputs": [],
   "source": [
    "text = get_data(path)"
   ]
  },
  {
   "cell_type": "code",
   "execution_count": 24,
   "metadata": {
    "collapsed": false
   },
   "outputs": [
    {
     "name": "stdout",
     "output_type": "stream",
     "text": [
      "Jack and Jill went up the hill\n",
      "To fetch a pail of water.\n",
      "Jack fell down and broke his crown,\n",
      "And Jill came tumbling after.\n",
      "\n",
      "Up Jack got, and home did trot,\n",
      "As fast as he could caper,\n",
      "To old Dame Dob, who patched his nob\n",
      "With vinegar and brown paper.\n",
      "\n"
     ]
    }
   ],
   "source": [
    "print(text)"
   ]
  },
  {
   "cell_type": "code",
   "execution_count": 25,
   "metadata": {
    "collapsed": false
   },
   "outputs": [
    {
     "data": {
      "text/plain": [
       "['Jack and Jill went up the hill',\n",
       " 'To fetch a pail of water.',\n",
       " 'Jack fell down and broke his crown,',\n",
       " 'And Jill came tumbling after.',\n",
       " '',\n",
       " 'Up Jack got, and home did trot,',\n",
       " 'As fast as he could caper,',\n",
       " 'To old Dame Dob, who patched his nob',\n",
       " 'With vinegar and brown paper.',\n",
       " '']"
      ]
     },
     "execution_count": 25,
     "metadata": {},
     "output_type": "execute_result"
    }
   ],
   "source": [
    "text.split('\\n')"
   ]
  },
  {
   "cell_type": "code",
   "execution_count": 34,
   "metadata": {
    "collapsed": false
   },
   "outputs": [
    {
     "name": "stdout",
     "output_type": "stream",
     "text": [
      "Jack and Jill went up the hill\n",
      "To fetch a pail of water.\n",
      "Jack fell down and broke his crown,\n",
      "And Jill came tumbling after.\n",
      "\n",
      "Up Jack got, and home did trot,\n",
      "As fast as he could caper,\n",
      "To old Dame Dob, who patched his nob\n",
      "With vinegar and brown paper.\n",
      "\n"
     ]
    }
   ],
   "source": [
    "print(text)"
   ]
  },
  {
   "cell_type": "code",
   "execution_count": 41,
   "metadata": {
    "collapsed": true
   },
   "outputs": [],
   "source": [
    "text = get_data2(path)\n",
    "def get_data2(path):\n",
    "    num_words = 0\n",
    "    with open(path, 'r') as file:\n",
    "        for line in file:\n",
    "            words = line.split()\n",
    "            num_words += len(words)\n",
    "    print(num_words)"
   ]
  },
  {
   "cell_type": "code",
   "execution_count": 42,
   "metadata": {
    "collapsed": false
   },
   "outputs": [
    {
     "name": "stdout",
     "output_type": "stream",
     "text": [
      "51\n"
     ]
    }
   ],
   "source": [
    "get_data2(path)"
   ]
  },
  {
   "cell_type": "code",
   "execution_count": 19,
   "metadata": {
    "collapsed": true
   },
   "outputs": [],
   "source": [
    "\n",
    "import string\n",
    "import re\n",
    "\n",
    "\n",
    "def get_data(path: str):\n",
    "    with open(path, 'r' ) as file:\n",
    "        text = file.read()\n",
    "        return text\n",
    "\n",
    "\n",
    "def cleaning(phrase: str) -> str:\n",
    "    \"\"\"\n",
    "    Taking the white space out\n",
    "    \"\"\"\n",
    "    pattern = re.compile(r'['+string.punctuation+']')\n",
    "    small = phrase.lower()\n",
    "    cleaned = pattern.sub(' ', small) # Taking the , and .\n",
    "\n",
    "    return cleaned\n",
    "\n",
    "\n",
    "def display_results(count_word: dict):\n",
    "    for k, v in sorted(count_word.items()):\n",
    "        print(k, v)\n",
    "\n",
    " # key=lambda t: t[1], reverse=True\n",
    "\n",
    "def quantify_words(path: str):\n",
    "\n",
    "    phrase = get_data(path)  # Assigning a variable to the function so that we can capture the return value later on\n",
    "    cleanstring = cleaning(phrase)  # Assigning phrase to a new variable\n",
    "    splitter = cleanstring.split()  # this takes the whitespace out\n",
    "\n",
    "    count_word = dict()           # Initialize empty dictionary to put values in\n",
    "    for word in splitter:\n",
    "#         try:\n",
    "#             count_word[word] += 1 # This increments the amount of instances of a certain word\n",
    "#         except KeyError:\n",
    "            count_word[word] = count_word.get(word, 0) + 1  # grabs the value then \n",
    "\n",
    "    display_results(count_word)"
   ]
  },
  {
   "cell_type": "code",
   "execution_count": 20,
   "metadata": {
    "collapsed": false
   },
   "outputs": [
    {
     "name": "stdout",
     "output_type": "stream",
     "text": [
      "a 1\n",
      "after 1\n",
      "and 5\n",
      "as 2\n",
      "broke 1\n",
      "brown 1\n",
      "came 1\n",
      "caper 1\n",
      "could 1\n",
      "crown 1\n",
      "dame 1\n",
      "did 1\n",
      "dob 1\n",
      "down 1\n",
      "fast 1\n",
      "fell 1\n",
      "fetch 1\n",
      "got 1\n",
      "he 1\n",
      "hill 1\n",
      "his 2\n",
      "home 1\n",
      "jack 3\n",
      "jill 2\n",
      "nob 1\n",
      "of 1\n",
      "old 1\n",
      "pail 1\n",
      "paper 1\n",
      "patched 1\n",
      "the 1\n",
      "to 2\n",
      "trot 1\n",
      "tumbling 1\n",
      "up 2\n",
      "vinegar 1\n",
      "water 1\n",
      "went 1\n",
      "who 1\n",
      "with 1\n"
     ]
    }
   ],
   "source": [
    "quantify_words('/home/migs/Documents/PythonFullStack/1_Python/3_Applied_Python/labs/ari/books/jack_and_jill.txt')"
   ]
  },
  {
   "cell_type": "code",
   "execution_count": 5,
   "metadata": {
    "collapsed": true
   },
   "outputs": [],
   "source": [
    "dinos = {'Pteradactyl': 'air', 'TREX': 'land'}"
   ]
  },
  {
   "cell_type": "code",
   "execution_count": 6,
   "metadata": {
    "collapsed": true
   },
   "outputs": [],
   "source": [
    "dinos['TREX'] = 'fly'"
   ]
  },
  {
   "cell_type": "code",
   "execution_count": 7,
   "metadata": {
    "collapsed": false
   },
   "outputs": [
    {
     "data": {
      "text/plain": [
       "{'Pteradactyl': 'air', 'TREX': 'fly'}"
      ]
     },
     "execution_count": 7,
     "metadata": {},
     "output_type": "execute_result"
    }
   ],
   "source": [
    "dinos\n"
   ]
  },
  {
   "cell_type": "code",
   "execution_count": 11,
   "metadata": {
    "collapsed": true
   },
   "outputs": [],
   "source": [
    "dino = dinos.get('TREX', None) # Reading operations"
   ]
  },
  {
   "cell_type": "code",
   "execution_count": 12,
   "metadata": {
    "collapsed": false
   },
   "outputs": [
    {
     "data": {
      "text/plain": [
       "'fly'"
      ]
     },
     "execution_count": 12,
     "metadata": {},
     "output_type": "execute_result"
    }
   ],
   "source": [
    "dino"
   ]
  },
  {
   "cell_type": "code",
   "execution_count": null,
   "metadata": {
    "collapsed": true
   },
   "outputs": [],
   "source": []
  },
  {
   "cell_type": "code",
   "execution_count": 14,
   "metadata": {
    "collapsed": false
   },
   "outputs": [],
   "source": [
    "def quantify_words(path: str):\n",
    "\n",
    "    phrase = get_data(path)  # Assigning a variable to the function so that we can capture the return value later on\n",
    "    cleanstring = cleaning(phrase)  # Assigning phrase to a new variable\n",
    "    splitter = cleanstring.split()  # this takes the whitespace out\n",
    "\n",
    "    count_word = dict()           # Initialize empty dictionary to put values in\n",
    "    for word in splitter:\n",
    "#         try:\n",
    "#             count_word[word] += 1 # This increments the amount of instances of a certain word\n",
    "#         except KeyError:\n",
    "            count_word[word] = count_word.get(word, 0) + 1  # grabs the value then \n",
    "\n",
    "    display_results(count_word)"
   ]
  },
  {
   "cell_type": "code",
   "execution_count": 21,
   "metadata": {
    "collapsed": true
   },
   "outputs": [],
   "source": [
    "from collections import Counter"
   ]
  },
  {
   "cell_type": "code",
   "execution_count": 22,
   "metadata": {
    "collapsed": true
   },
   "outputs": [],
   "source": [
    "phrase = \"Red touching black is a friend of Jack, Red touching yellow can kill a fellow.\""
   ]
  },
  {
   "cell_type": "code",
   "execution_count": 23,
   "metadata": {
    "collapsed": false
   },
   "outputs": [
    {
     "data": {
      "text/plain": [
       "Counter({'Jack,': 1,\n",
       "         'Red': 2,\n",
       "         'a': 2,\n",
       "         'black': 1,\n",
       "         'can': 1,\n",
       "         'fellow.': 1,\n",
       "         'friend': 1,\n",
       "         'is': 1,\n",
       "         'kill': 1,\n",
       "         'of': 1,\n",
       "         'touching': 2,\n",
       "         'yellow': 1})"
      ]
     },
     "execution_count": 23,
     "metadata": {},
     "output_type": "execute_result"
    }
   ],
   "source": [
    "Counter(phrase.split())"
   ]
  },
  {
   "cell_type": "code",
   "execution_count": null,
   "metadata": {
    "collapsed": true
   },
   "outputs": [],
   "source": []
  },
  {
   "cell_type": "code",
   "execution_count": null,
   "metadata": {
    "collapsed": true
   },
   "outputs": [],
   "source": []
  },
  {
   "cell_type": "code",
   "execution_count": 30,
   "metadata": {
    "collapsed": true
   },
   "outputs": [],
   "source": [
    "from collections import Counter"
   ]
  },
  {
   "cell_type": "code",
   "execution_count": 31,
   "metadata": {
    "collapsed": false
   },
   "outputs": [],
   "source": [
    "the_count = defaultdict(int)\n",
    "for word in phrase.split():\n",
    "    the_count[word] += 1"
   ]
  },
  {
   "cell_type": "code",
   "execution_count": 32,
   "metadata": {
    "collapsed": false
   },
   "outputs": [
    {
     "data": {
      "text/plain": [
       "defaultdict(int,\n",
       "            {'Jack,': 1,\n",
       "             'Red': 2,\n",
       "             'a': 2,\n",
       "             'black': 1,\n",
       "             'can': 1,\n",
       "             'fellow.': 1,\n",
       "             'friend': 1,\n",
       "             'is': 1,\n",
       "             'kill': 1,\n",
       "             'of': 1,\n",
       "             'touching': 2,\n",
       "             'yellow': 1})"
      ]
     },
     "execution_count": 32,
     "metadata": {},
     "output_type": "execute_result"
    }
   ],
   "source": [
    "the_count"
   ]
  },
  {
   "cell_type": "code",
   "execution_count": 28,
   "metadata": {
    "collapsed": true
   },
   "outputs": [],
   "source": [
    "the_count = defaultdict(list)\n",
    "for word in phrase.split():\n",
    "    the_count[word].append(word)"
   ]
  },
  {
   "cell_type": "code",
   "execution_count": 29,
   "metadata": {
    "collapsed": false
   },
   "outputs": [
    {
     "data": {
      "text/plain": [
       "defaultdict(list,\n",
       "            {'Jack,': ['Jack,'],\n",
       "             'Red': ['Red', 'Red'],\n",
       "             'a': ['a', 'a'],\n",
       "             'black': ['black'],\n",
       "             'can': ['can'],\n",
       "             'fellow.': ['fellow.'],\n",
       "             'friend': ['friend'],\n",
       "             'is': ['is'],\n",
       "             'kill': ['kill'],\n",
       "             'of': ['of'],\n",
       "             'touching': ['touching', 'touching'],\n",
       "             'yellow': ['yellow']})"
      ]
     },
     "execution_count": 29,
     "metadata": {},
     "output_type": "execute_result"
    }
   ],
   "source": [
    "the_count\n"
   ]
  },
  {
   "cell_type": "code",
   "execution_count": 2,
   "metadata": {
    "collapsed": true
   },
   "outputs": [],
   "source": [
    "import os\n"
   ]
  },
  {
   "cell_type": "code",
   "execution_count": 2,
   "metadata": {
    "collapsed": false
   },
   "outputs": [],
   "source": [
    "x = os.listdir('/home/migs/Documents/python_class/3_AppliedPython/Ari/books')\n"
   ]
  },
  {
   "cell_type": "code",
   "execution_count": 28,
   "metadata": {
    "collapsed": true
   },
   "outputs": [],
   "source": [
    "books = {el: 0 for el in x}"
   ]
  },
  {
   "cell_type": "code",
   "execution_count": 32,
   "metadata": {
    "collapsed": false
   },
   "outputs": [],
   "source": [
    "texts = {i: text for i, text in enumerate(books, start=1)}"
   ]
  },
  {
   "cell_type": "code",
   "execution_count": 33,
   "metadata": {
    "collapsed": false
   },
   "outputs": [
    {
     "data": {
      "text/plain": [
       "{1: 'geneology_of_morals.txt',\n",
       " 2: 'po.txt',\n",
       " 3: 'the_room_with_the_little_door.txt',\n",
       " 4: 'jack_and_jill.txt',\n",
       " 5: 'gettysburg_address.txt',\n",
       " 6: 'iliad.txt',\n",
       " 7: 'marketing_ipsum.txt',\n",
       " 8: 'licenses',\n",
       " 9: 'odyssey.txt'}"
      ]
     },
     "execution_count": 33,
     "metadata": {},
     "output_type": "execute_result"
    }
   ],
   "source": [
    "texts"
   ]
  },
  {
   "cell_type": "code",
   "execution_count": 34,
   "metadata": {
    "collapsed": false
   },
   "outputs": [
    {
     "name": "stdout",
     "output_type": "stream",
     "text": [
      "1 geneology_of_morals.txt\n",
      "2 po.txt\n",
      "3 the_room_with_the_little_door.txt\n",
      "4 jack_and_jill.txt\n",
      "5 gettysburg_address.txt\n",
      "6 iliad.txt\n",
      "7 marketing_ipsum.txt\n",
      "8 licenses\n",
      "9 odyssey.txt\n"
     ]
    }
   ],
   "source": [
    "for key in texts:\n",
    "    print(key, texts.get(key))"
   ]
  },
  {
   "cell_type": "code",
   "execution_count": 4,
   "metadata": {
    "collapsed": true
   },
   "outputs": [],
   "source": [
    "import os\n",
    "\n",
    "\n",
    "BOOKS = '/home/migs/Documents/python_class/3_AppliedPython/Ari/books'\n",
    "def show_menu():\n",
    "    \"\"\"\n",
    "    \n",
    "    :return: \n",
    "    \"\"\"\n",
    "    paths = os.listdir(BOOKS)\n",
    "    paths = [path for path in paths if '.txt' in path]\n",
    "    menu = {i: text for i, text in enumerate(paths, start=1)}\n",
    "\n",
    "    print('=======<<>><<>><<>>=======')\n",
    "    for number, path in menu.items():\n",
    "        print(f'{number}) {path}')"
   ]
  },
  {
   "cell_type": "code",
   "execution_count": 38,
   "metadata": {
    "collapsed": false
   },
   "outputs": [
    {
     "name": "stdout",
     "output_type": "stream",
     "text": [
      "=======<<>><<>><<>>=======\n",
      "1) geneology_of_morals.txt\n",
      "2) po.txt\n",
      "3) the_room_with_the_little_door.txt\n",
      "4) jack_and_jill.txt\n",
      "5) gettysburg_address.txt\n",
      "6) iliad.txt\n",
      "7) marketing_ipsum.txt\n",
      "8) odyssey.txt\n"
     ]
    }
   ],
   "source": [
    "show_menu()"
   ]
  },
  {
   "cell_type": "code",
   "execution_count": 3,
   "metadata": {
    "collapsed": false
   },
   "outputs": [
    {
     "data": {
      "text/plain": [
       "['RegExpressions.ipynb',\n",
       " 'Untitled.ipynb',\n",
       " 'I[]O.ipynb',\n",
       " 'Counting words.ipynb',\n",
       " 'Untitled1.ipynb',\n",
       " 'dictionary.txt',\n",
       " '.idea',\n",
       " 'phone_book.py',\n",
       " 'dictionaries and sets.ipynb',\n",
       " 'quantify_words2.py',\n",
       " 'scrub.py',\n",
       " 'voting_booth.py',\n",
       " '.ipynb_checkpoints',\n",
       " '__pycache__',\n",
       " 'unique.py',\n",
       " 'Ari',\n",
       " 'sets (dictionaries cont).ipynb',\n",
       " 'Exception Handling[]Generators.ipynb',\n",
       " 'playground.py',\n",
       " 'Classes.ipynb',\n",
       " 'quantify_words.py']"
      ]
     },
     "execution_count": 3,
     "metadata": {},
     "output_type": "execute_result"
    }
   ],
   "source": [
    "os.listdir()"
   ]
  },
  {
   "cell_type": "code",
   "execution_count": 5,
   "metadata": {
    "collapsed": false
   },
   "outputs": [
    {
     "name": "stdout",
     "output_type": "stream",
     "text": [
      "geneology_of_morals.txt  jack_and_jill.txt    odyssey.txt\r\n",
      "gettysburg_address.txt   \u001b[0m\u001b[01;34mlicenses\u001b[0m/            po.txt\r\n",
      "iliad.txt                marketing_ipsum.txt  the_room_with_the_little_door.txt\r\n"
     ]
    }
   ],
   "source": [
    "ls /home/migs/Documents/python_class/3_AppliedPython/Ari/books"
   ]
  },
  {
   "cell_type": "code",
   "execution_count": 6,
   "metadata": {
    "collapsed": true
   },
   "outputs": [],
   "source": [
    "os.chdir('../') # cd"
   ]
  },
  {
   "cell_type": "code",
   "execution_count": 8,
   "metadata": {
    "collapsed": false
   },
   "outputs": [],
   "source": [
    "BASE_DIR = '/home/migs/Documents/python_class/3_AppliedPython/Ari/books'"
   ]
  },
  {
   "cell_type": "code",
   "execution_count": 9,
   "metadata": {
    "collapsed": false
   },
   "outputs": [
    {
     "data": {
      "text/plain": [
       "'/home/migs/Documents/python_class/3_AppliedPython/Ari/books'"
      ]
     },
     "execution_count": 9,
     "metadata": {},
     "output_type": "execute_result"
    }
   ],
   "source": [
    "BASE_DIR"
   ]
  },
  {
   "cell_type": "code",
   "execution_count": 10,
   "metadata": {
    "collapsed": false
   },
   "outputs": [
    {
     "data": {
      "text/plain": [
       "['geneology_of_morals.txt',\n",
       " 'po.txt',\n",
       " 'the_room_with_the_little_door.txt',\n",
       " 'jack_and_jill.txt',\n",
       " 'gettysburg_address.txt',\n",
       " 'iliad.txt',\n",
       " 'marketing_ipsum.txt',\n",
       " 'licenses',\n",
       " 'odyssey.txt']"
      ]
     },
     "execution_count": 10,
     "metadata": {},
     "output_type": "execute_result"
    }
   ],
   "source": [
    "os.listdir(BASE_DIR)"
   ]
  },
  {
   "cell_type": "code",
   "execution_count": 16,
   "metadata": {
    "collapsed": false
   },
   "outputs": [],
   "source": [
    "def file_handler(filesystem_path: str) -> str:\n",
    "    \"\"\"\n",
    "    Accepts a Filesystem PAth..\n",
    "    Opens the File, and returns the entire file\n",
    "    contents as a single string literal\n",
    "    \"\"\"\n",
    "    with open(filesystem_path,'r') as f:\n",
    "        raw_text = f.read()\n",
    "        return raw_text"
   ]
  },
  {
   "cell_type": "code",
   "execution_count": null,
   "metadata": {
    "collapsed": true
   },
   "outputs": [],
   "source": []
  },
  {
   "cell_type": "code",
   "execution_count": null,
   "metadata": {
    "collapsed": true
   },
   "outputs": [],
   "source": []
  },
  {
   "cell_type": "code",
   "execution_count": 24,
   "metadata": {
    "collapsed": false
   },
   "outputs": [],
   "source": [
    "fullpath = os.path.join(BASE_DIR, 'gettysburg_address.txt')\n",
    "data = file_handler(fullpath)"
   ]
  },
  {
   "cell_type": "code",
   "execution_count": 26,
   "metadata": {
    "collapsed": false
   },
   "outputs": [
    {
     "data": {
      "text/plain": [
       "'Four score and seven years ago our fathers brought forth on this continent, a new nation, conceived in Liberty, and dedicated to the proposition that all men are created equal.\\nNow we are engaged in a great civil war, testing whether that nation, or any nation so conceived and so dedicated, can long endure. We are met on a great battle-field of that war. We have come to dedicate a portion of that field, as a final resting place for those who here gave their lives that that nation might live. It is altogether fitting and proper that we should do this.\\nBut, in a larger sense, we can not dedicate -- we can not consecrate -- we can not hallow -- this ground. The brave men, living and dead, who struggled here, have consecrated it, far above our poor power to add or detract. The world will little note, nor long remember what we say here, but it can never forget what they did here. It is for us the living, rather, to be dedicated here to the unfinished work which they who fought here have thus far so nobly advanced. It is rather for us to be here dedicated to the great task remaining before us -- that from these honored dead we take increased devotion to that cause for which they gave the last full measure of devotion -- that we here highly resolve that these dead shall not have died in vain -- that this nation, under God, shall have a new birth of freedom -- and that government of the people, by the people, for the people, shall not perish from the earth.\\n'"
      ]
     },
     "execution_count": 26,
     "metadata": {},
     "output_type": "execute_result"
    }
   ],
   "source": [
    "data\n",
    "\n"
   ]
  },
  {
   "cell_type": "code",
   "execution_count": null,
   "metadata": {
    "collapsed": true
   },
   "outputs": [],
   "source": []
  },
  {
   "cell_type": "code",
   "execution_count": null,
   "metadata": {
    "collapsed": true
   },
   "outputs": [],
   "source": []
  },
  {
   "cell_type": "code",
   "execution_count": null,
   "metadata": {
    "collapsed": true
   },
   "outputs": [],
   "source": []
  },
  {
   "cell_type": "code",
   "execution_count": null,
   "metadata": {
    "collapsed": true
   },
   "outputs": [],
   "source": []
  }
 ],
 "metadata": {
  "kernelspec": {
   "display_name": "Python 3",
   "language": "python",
   "name": "python3"
  },
  "language_info": {
   "codemirror_mode": {
    "name": "ipython",
    "version": 3
   },
   "file_extension": ".py",
   "mimetype": "text/x-python",
   "name": "python",
   "nbconvert_exporter": "python",
   "pygments_lexer": "ipython3",
   "version": "3.6.0"
  }
 },
 "nbformat": 4,
 "nbformat_minor": 2
}
