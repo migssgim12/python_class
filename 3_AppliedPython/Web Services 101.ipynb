{
 "cells": [
  {
   "cell_type": "code",
   "execution_count": null,
   "metadata": {
    "collapsed": true
   },
   "outputs": [],
   "source": []
  },
  {
   "cell_type": "code",
   "execution_count": 35,
   "metadata": {
    "collapsed": true
   },
   "outputs": [],
   "source": [
    "import requests"
   ]
  },
  {
   "cell_type": "code",
   "execution_count": 36,
   "metadata": {
    "collapsed": false
   },
   "outputs": [],
   "source": [
    "response = requests.get('http://api.randomuser.me/?results=5')\n"
   ]
  },
  {
   "cell_type": "code",
   "execution_count": 4,
   "metadata": {
    "collapsed": false
   },
   "outputs": [
    {
     "data": {
      "text/plain": [
       "<Response [200]>"
      ]
     },
     "execution_count": 4,
     "metadata": {},
     "output_type": "execute_result"
    }
   ],
   "source": [
    "response"
   ]
  },
  {
   "cell_type": "code",
   "execution_count": 32,
   "metadata": {
    "collapsed": false
   },
   "outputs": [
    {
     "data": {
      "text/plain": [
       "{'page': 1, 'results': 5, 'seed': '6c94e9c590aab44a', 'version': '1.1'}"
      ]
     },
     "execution_count": 32,
     "metadata": {},
     "output_type": "execute_result"
    }
   ],
   "source": [
    "response.json().get('info')\n"
   ]
  },
  {
   "cell_type": "code",
   "execution_count": 37,
   "metadata": {
    "collapsed": false
   },
   "outputs": [],
   "source": [
    "users = response.json().get('results')"
   ]
  },
  {
   "cell_type": "code",
   "execution_count": 38,
   "metadata": {
    "collapsed": false
   },
   "outputs": [
    {
     "name": "stdout",
     "output_type": "stream",
     "text": [
      "michael watkins\n",
      "alyssia bourgeois\n",
      "emily brady\n",
      "zoe beck\n",
      "soan dumas\n"
     ]
    }
   ],
   "source": [
    "for user in users:\n",
    "    name_data = user.get('name')\n",
    "    first_name = name_data['first']\n",
    "    last_name = name_data['last']\n",
    "    \n",
    "    print(first_name, last_name)\n"
   ]
  },
  {
   "cell_type": "code",
   "execution_count": 39,
   "metadata": {
    "collapsed": false
   },
   "outputs": [
    {
     "name": "stdout",
     "output_type": "stream",
     "text": [
      "michael.watkins@example.com\n",
      "alyssia.bourgeois@example.com\n",
      "emily.brady@example.com\n",
      "zoe.beck@example.com\n",
      "soan.dumas@example.com\n"
     ]
    }
   ],
   "source": [
    "for user in users:\n",
    "    email = user.get('email')\n",
    "    print(email)\n",
    "    "
   ]
  },
  {
   "cell_type": "code",
   "execution_count": 43,
   "metadata": {
    "collapsed": false
   },
   "outputs": [
    {
     "name": "stdout",
     "output_type": "stream",
     "text": [
      "michael.watkins@example.com blackelephant427\n",
      "alyssia.bourgeois@example.com yellowlion950\n",
      "emily.brady@example.com greenmouse168\n",
      "zoe.beck@example.com redgoose771\n",
      "soan.dumas@example.com organicelephant608\n"
     ]
    }
   ],
   "source": [
    "    for user in users:\n",
    "        name_data = user.get('name')\n",
    "        first_name, last_name = name_data['first'], name_data['last']\n",
    "        email = user.get('email')\n",
    "        user_name = user.get('login')['username']\n",
    "        print(email, user_name)\n",
    "        "
   ]
  },
  {
   "cell_type": "code",
   "execution_count": null,
   "metadata": {
    "collapsed": true
   },
   "outputs": [],
   "source": []
  },
  {
   "cell_type": "code",
   "execution_count": null,
   "metadata": {
    "collapsed": true
   },
   "outputs": [],
   "source": []
  }
 ],
 "metadata": {
  "kernelspec": {
   "display_name": "Python 3",
   "language": "python",
   "name": "python3"
  },
  "language_info": {
   "codemirror_mode": {
    "name": "ipython",
    "version": 3
   },
   "file_extension": ".py",
   "mimetype": "text/x-python",
   "name": "python",
   "nbconvert_exporter": "python",
   "pygments_lexer": "ipython3",
   "version": "3.6.0"
  }
 },
 "nbformat": 4,
 "nbformat_minor": 2
}
